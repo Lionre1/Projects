{
 "cells": [
  {
   "cell_type": "code",
   "execution_count": 1,
   "id": "4e79fb55",
   "metadata": {},
   "outputs": [],
   "source": [
    "import pandas as pd\n",
    "import openpyxl\n",
    "import numpy as np\n",
    "import matplotlib.pyplot as plt\n",
    "import math\n",
    "import statistics"
   ]
  },
  {
   "cell_type": "code",
   "execution_count": 2,
   "id": "72d5e651",
   "metadata": {},
   "outputs": [],
   "source": [
    "# import measurement data\n",
    "df1 = pd.read_excel(r\"C:\\Users\\lionr\\OneDrive\\Desktop\\Biochemie\\PC Praktikum\\BOIL\\Teil1.xlsx\")"
   ]
  },
  {
   "cell_type": "code",
   "execution_count": 3,
   "id": "6d39483d",
   "metadata": {},
   "outputs": [
    {
     "data": {
      "text/html": [
       "<div>\n",
       "<style scoped>\n",
       "    .dataframe tbody tr th:only-of-type {\n",
       "        vertical-align: middle;\n",
       "    }\n",
       "\n",
       "    .dataframe tbody tr th {\n",
       "        vertical-align: top;\n",
       "    }\n",
       "\n",
       "    .dataframe thead th {\n",
       "        text-align: right;\n",
       "    }\n",
       "</style>\n",
       "<table border=\"1\" class=\"dataframe\">\n",
       "  <thead>\n",
       "    <tr style=\"text-align: right;\">\n",
       "      <th></th>\n",
       "      <th>t</th>\n",
       "      <th>T1</th>\n",
       "      <th>T2</th>\n",
       "      <th>p</th>\n",
       "    </tr>\n",
       "  </thead>\n",
       "  <tbody>\n",
       "    <tr>\n",
       "      <th>0</th>\n",
       "      <td>0.0</td>\n",
       "      <td>20.0</td>\n",
       "      <td>25.8</td>\n",
       "      <td>209.4</td>\n",
       "    </tr>\n",
       "    <tr>\n",
       "      <th>1</th>\n",
       "      <td>0.5</td>\n",
       "      <td>20.0</td>\n",
       "      <td>25.8</td>\n",
       "      <td>208.8</td>\n",
       "    </tr>\n",
       "    <tr>\n",
       "      <th>2</th>\n",
       "      <td>1.0</td>\n",
       "      <td>20.0</td>\n",
       "      <td>25.8</td>\n",
       "      <td>208.8</td>\n",
       "    </tr>\n",
       "    <tr>\n",
       "      <th>3</th>\n",
       "      <td>1.5</td>\n",
       "      <td>20.0</td>\n",
       "      <td>25.8</td>\n",
       "      <td>208.9</td>\n",
       "    </tr>\n",
       "    <tr>\n",
       "      <th>4</th>\n",
       "      <td>2.0</td>\n",
       "      <td>20.0</td>\n",
       "      <td>25.8</td>\n",
       "      <td>209.0</td>\n",
       "    </tr>\n",
       "  </tbody>\n",
       "</table>\n",
       "</div>"
      ],
      "text/plain": [
       "     t    T1    T2      p\n",
       "0  0.0  20.0  25.8  209.4\n",
       "1  0.5  20.0  25.8  208.8\n",
       "2  1.0  20.0  25.8  208.8\n",
       "3  1.5  20.0  25.8  208.9\n",
       "4  2.0  20.0  25.8  209.0"
      ]
     },
     "execution_count": 3,
     "metadata": {},
     "output_type": "execute_result"
    }
   ],
   "source": [
    "df1.head()"
   ]
  },
  {
   "cell_type": "code",
   "execution_count": 4,
   "id": "4f54abdd",
   "metadata": {},
   "outputs": [
    {
     "data": {
      "text/html": [
       "<div>\n",
       "<style scoped>\n",
       "    .dataframe tbody tr th:only-of-type {\n",
       "        vertical-align: middle;\n",
       "    }\n",
       "\n",
       "    .dataframe tbody tr th {\n",
       "        vertical-align: top;\n",
       "    }\n",
       "\n",
       "    .dataframe thead th {\n",
       "        text-align: right;\n",
       "    }\n",
       "</style>\n",
       "<table border=\"1\" class=\"dataframe\">\n",
       "  <thead>\n",
       "    <tr style=\"text-align: right;\">\n",
       "      <th></th>\n",
       "      <th>t</th>\n",
       "      <th>T1</th>\n",
       "      <th>p</th>\n",
       "    </tr>\n",
       "  </thead>\n",
       "  <tbody>\n",
       "    <tr>\n",
       "      <th>0</th>\n",
       "      <td>0.0</td>\n",
       "      <td>20.0</td>\n",
       "      <td>209.4</td>\n",
       "    </tr>\n",
       "    <tr>\n",
       "      <th>1</th>\n",
       "      <td>0.5</td>\n",
       "      <td>20.0</td>\n",
       "      <td>208.8</td>\n",
       "    </tr>\n",
       "    <tr>\n",
       "      <th>2</th>\n",
       "      <td>1.0</td>\n",
       "      <td>20.0</td>\n",
       "      <td>208.8</td>\n",
       "    </tr>\n",
       "    <tr>\n",
       "      <th>3</th>\n",
       "      <td>1.5</td>\n",
       "      <td>20.0</td>\n",
       "      <td>208.9</td>\n",
       "    </tr>\n",
       "    <tr>\n",
       "      <th>4</th>\n",
       "      <td>2.0</td>\n",
       "      <td>20.0</td>\n",
       "      <td>209.0</td>\n",
       "    </tr>\n",
       "    <tr>\n",
       "      <th>...</th>\n",
       "      <td>...</td>\n",
       "      <td>...</td>\n",
       "      <td>...</td>\n",
       "    </tr>\n",
       "    <tr>\n",
       "      <th>9122</th>\n",
       "      <td>4561.0</td>\n",
       "      <td>80.1</td>\n",
       "      <td>976.5</td>\n",
       "    </tr>\n",
       "    <tr>\n",
       "      <th>9123</th>\n",
       "      <td>4561.5</td>\n",
       "      <td>80.1</td>\n",
       "      <td>976.4</td>\n",
       "    </tr>\n",
       "    <tr>\n",
       "      <th>9124</th>\n",
       "      <td>4562.0</td>\n",
       "      <td>80.2</td>\n",
       "      <td>976.3</td>\n",
       "    </tr>\n",
       "    <tr>\n",
       "      <th>9125</th>\n",
       "      <td>4562.5</td>\n",
       "      <td>80.1</td>\n",
       "      <td>976.4</td>\n",
       "    </tr>\n",
       "    <tr>\n",
       "      <th>9126</th>\n",
       "      <td>4563.0</td>\n",
       "      <td>80.1</td>\n",
       "      <td>976.4</td>\n",
       "    </tr>\n",
       "  </tbody>\n",
       "</table>\n",
       "<p>9127 rows × 3 columns</p>\n",
       "</div>"
      ],
      "text/plain": [
       "           t    T1      p\n",
       "0        0.0  20.0  209.4\n",
       "1        0.5  20.0  208.8\n",
       "2        1.0  20.0  208.8\n",
       "3        1.5  20.0  208.9\n",
       "4        2.0  20.0  209.0\n",
       "...      ...   ...    ...\n",
       "9122  4561.0  80.1  976.5\n",
       "9123  4561.5  80.1  976.4\n",
       "9124  4562.0  80.2  976.3\n",
       "9125  4562.5  80.1  976.4\n",
       "9126  4563.0  80.1  976.4\n",
       "\n",
       "[9127 rows x 3 columns]"
      ]
     },
     "execution_count": 4,
     "metadata": {},
     "output_type": "execute_result"
    }
   ],
   "source": [
    "# drop 'T2'\n",
    "df1.drop(\"T2\",axis=1)"
   ]
  },
  {
   "cell_type": "code",
   "execution_count": 5,
   "id": "fe1b9941",
   "metadata": {},
   "outputs": [
    {
     "data": {
      "text/plain": [
       "Text(0, 0.5, 'Pressure [Pa]')"
      ]
     },
     "execution_count": 5,
     "metadata": {},
     "output_type": "execute_result"
    },
    {
     "data": {
      "image/png": "[encoded data removed]",
      "text/plain": [
       "<Figure size 432x288 with 1 Axes>"
      ]
     },
     "metadata": {
      "needs_background": "light"
     },
     "output_type": "display_data"
    }
   ],
   "source": [
    "# convert to SI-units and plot\n",
    "plt.plot([x + 273.15 for x in df1[\"T1\"]],[x * 100 for x in df1[\"p\"]])\n",
    "plt.title(\"Measurement data for pressure and temperature for increasing pressure\")\n",
    "plt.xlabel(\"Temperature [K]\")\n",
    "plt.ylabel(\"Pressure [Pa]\")"
   ]
  },
  {
   "cell_type": "code",
   "execution_count": 6,
   "id": "3442b4e9",
   "metadata": {},
   "outputs": [
    {
     "data": {
      "text/html": [
       "<div>\n",
       "<style scoped>\n",
       "    .dataframe tbody tr th:only-of-type {\n",
       "        vertical-align: middle;\n",
       "    }\n",
       "\n",
       "    .dataframe tbody tr th {\n",
       "        vertical-align: top;\n",
       "    }\n",
       "\n",
       "    .dataframe thead th {\n",
       "        text-align: right;\n",
       "    }\n",
       "</style>\n",
       "<table border=\"1\" class=\"dataframe\">\n",
       "  <thead>\n",
       "    <tr style=\"text-align: right;\">\n",
       "      <th></th>\n",
       "      <th>t</th>\n",
       "      <th>T1</th>\n",
       "      <th>p</th>\n",
       "    </tr>\n",
       "  </thead>\n",
       "  <tbody>\n",
       "    <tr>\n",
       "      <th>0</th>\n",
       "      <td>0.0</td>\n",
       "      <td>77.4</td>\n",
       "      <td>975.6</td>\n",
       "    </tr>\n",
       "    <tr>\n",
       "      <th>1</th>\n",
       "      <td>0.5</td>\n",
       "      <td>77.4</td>\n",
       "      <td>975.7</td>\n",
       "    </tr>\n",
       "    <tr>\n",
       "      <th>2</th>\n",
       "      <td>1.0</td>\n",
       "      <td>77.4</td>\n",
       "      <td>975.8</td>\n",
       "    </tr>\n",
       "    <tr>\n",
       "      <th>3</th>\n",
       "      <td>1.5</td>\n",
       "      <td>77.4</td>\n",
       "      <td>975.8</td>\n",
       "    </tr>\n",
       "    <tr>\n",
       "      <th>4</th>\n",
       "      <td>2.0</td>\n",
       "      <td>77.4</td>\n",
       "      <td>975.8</td>\n",
       "    </tr>\n",
       "    <tr>\n",
       "      <th>...</th>\n",
       "      <td>...</td>\n",
       "      <td>...</td>\n",
       "      <td>...</td>\n",
       "    </tr>\n",
       "    <tr>\n",
       "      <th>8998</th>\n",
       "      <td>4499.0</td>\n",
       "      <td>33.4</td>\n",
       "      <td>200.2</td>\n",
       "    </tr>\n",
       "    <tr>\n",
       "      <th>8999</th>\n",
       "      <td>4499.5</td>\n",
       "      <td>33.4</td>\n",
       "      <td>200.2</td>\n",
       "    </tr>\n",
       "    <tr>\n",
       "      <th>9000</th>\n",
       "      <td>4500.0</td>\n",
       "      <td>33.4</td>\n",
       "      <td>200.3</td>\n",
       "    </tr>\n",
       "    <tr>\n",
       "      <th>9001</th>\n",
       "      <td>4500.5</td>\n",
       "      <td>33.4</td>\n",
       "      <td>200.5</td>\n",
       "    </tr>\n",
       "    <tr>\n",
       "      <th>9002</th>\n",
       "      <td>4501.0</td>\n",
       "      <td>33.5</td>\n",
       "      <td>200.3</td>\n",
       "    </tr>\n",
       "  </tbody>\n",
       "</table>\n",
       "<p>9003 rows × 3 columns</p>\n",
       "</div>"
      ],
      "text/plain": [
       "           t    T1      p\n",
       "0        0.0  77.4  975.6\n",
       "1        0.5  77.4  975.7\n",
       "2        1.0  77.4  975.8\n",
       "3        1.5  77.4  975.8\n",
       "4        2.0  77.4  975.8\n",
       "...      ...   ...    ...\n",
       "8998  4499.0  33.4  200.2\n",
       "8999  4499.5  33.4  200.2\n",
       "9000  4500.0  33.4  200.3\n",
       "9001  4500.5  33.4  200.5\n",
       "9002  4501.0  33.5  200.3\n",
       "\n",
       "[9003 rows x 3 columns]"
      ]
     },
     "execution_count": 6,
     "metadata": {},
     "output_type": "execute_result"
    }
   ],
   "source": [
    "df2 = pd.read_excel(r\"C:\\Users\\lionr\\OneDrive\\Desktop\\Biochemie\\PC Praktikum\\BOIL\\Teil2.xlsx\")\n",
    "df2.drop(\"T2\",axis=1)"
   ]
  },
  {
   "cell_type": "code",
   "execution_count": 7,
   "id": "b2355522",
   "metadata": {},
   "outputs": [
    {
     "data": {
      "text/plain": [
       "Text(0, 0.5, 'Pressure [Pa]')"
      ]
     },
     "execution_count": 7,
     "metadata": {},
     "output_type": "execute_result"
    },
    {
     "data": {
      "image/png": "[encoded data removed]",
      "text/plain": [
       "<Figure size 432x288 with 1 Axes>"
      ]
     },
     "metadata": {
      "needs_background": "light"
     },
     "output_type": "display_data"
    }
   ],
   "source": [
    "# convert to SI-units and plot\n",
    "plt.plot([x + 273.15 for x in df2[\"T1\"]],[x * 100 for x in df2[\"p\"]])\n",
    "plt.title(\"Measurement data for pressure and temperature for decreasing pressure\")\n",
    "plt.xlabel(\"Temperature [K]\")\n",
    "plt.ylabel(\"Pressure [Pa]\")"
   ]
  },
  {
   "cell_type": "code",
   "execution_count": 8,
   "id": "b16df6f0",
   "metadata": {},
   "outputs": [],
   "source": [
    "# values for pressure and temperature at boiling point\n",
    "\n",
    "# increasing pressure\n",
    "p1 = [200.5,299.8,401.1,499.0,599.3,697.8,795.6,900.6,976.0]\n",
    "T1 = [34.2,44.4,52.1,58.4,64.2,68.0,72.5,76.9,80.2]\n",
    "T1_K = [x + 273.15 for x in T1]\n",
    "p1_Pa = [x * 100 for x in p1]\n",
    "\n",
    "# decreasing pressure\n",
    "p2 = [976.0,899.6,800.0,701.4,600.4,501.2,400.4,299.3,200.4]\n",
    "T2 = [80.2,76.9,72.4,68.1,63.6,58.0,51.9,44.0,33.4]\n",
    "T2_K = [x + 273.15 for x in T2]\n",
    "p2_Pa = [x * 100 for x in p2]"
   ]
  },
  {
   "cell_type": "code",
   "execution_count": 9,
   "id": "1ad08077",
   "metadata": {},
   "outputs": [
    {
     "data": {
      "text/plain": [
       "<matplotlib.legend.Legend at 0x1e28e645f90>"
      ]
     },
     "execution_count": 9,
     "metadata": {},
     "output_type": "execute_result"
    },
    {
     "data": {
      "image/png": "[encoded data removed]",
      "text/plain": [
       "<Figure size 432x288 with 1 Axes>"
      ]
     },
     "metadata": {
      "needs_background": "light"
     },
     "output_type": "display_data"
    }
   ],
   "source": [
    "# plotting the vapor pressure curve\n",
    "plt.plot(T1_K,p1_Pa,'--r',marker='o')\n",
    "plt.plot(T2_K,p2_Pa,'--b',marker='d')\n",
    "\n",
    "plt.title(\"Vapor pressure curve for cyclohexane\")\n",
    "plt.xlabel(\"T [K]\")\n",
    "plt.ylabel(\"p [Pa]\")\n",
    "plt.legend([\"Increasing pressure\",\"Decreasing pressure\"])"
   ]
  },
  {
   "cell_type": "code",
   "execution_count": 10,
   "id": "0ef5da0d",
   "metadata": {},
   "outputs": [
    {
     "name": "stdout",
     "output_type": "stream",
     "text": [
      "1.0\n",
      "[97600.0, 89960.0, 80000.0, 70140.0, 60040.0, 50120.0, 40040.0, 29930.0, 20040.0]\n",
      "[11.488632772401184, 11.407120406073252, 11.289781913656018, 11.15824852369417, 11.002766285747398, 10.822175409010004, 10.597634233429156, 10.306616600846745, 9.905485555198801]\n",
      "[353.34999999999997, 350.04999999999995, 345.54999999999995, 341.25, 336.75, 331.15, 325.04999999999995, 317.15, 306.54999999999995]\n"
     ]
    },
    {
     "data": {
      "text/plain": [
       "'print(ln_p_err1)\\nprint(ln_p_err2)\\nprint(T_inv_error1)\\nprint(T_inv_error2)'"
      ]
     },
     "execution_count": 10,
     "metadata": {},
     "output_type": "execute_result"
    }
   ],
   "source": [
    "# getting the natural logarithm for pressure and inverted temperature, error calculation\n",
    "print(math.log(math.e))\n",
    "\n",
    "ln_p1 = [math.log(x) for x in p1_Pa]\n",
    "T_inv1 = [1/x for x in T1_K]\n",
    "\n",
    "ln_p2 = [math.log(x) for x in p2_Pa]\n",
    "T_inv2 = [1/x for x in T2_K]\n",
    "\n",
    "ln_p_err1 = [10/x for x in p1_Pa]\n",
    "ln_p_err2 = [10/x for x in p2_Pa]\n",
    "T_inv_error1 = [(0.1)/(x**2)for x in T1_K]\n",
    "T_inv_error2 = [(0.1)/(x**2) for x in T2_K]\n",
    "\n",
    "\"\"\"print(p1_Pa)\n",
    "print(ln_p1)\n",
    "print(T1_K)\"\"\"\n",
    "\n",
    "print(p2_Pa)\n",
    "print(ln_p2)\n",
    "print(T2_K)\n",
    "\n",
    "\"\"\"print(ln_p_err1)\n",
    "print(ln_p_err2)\n",
    "print(T_inv_error1)\n",
    "print(T_inv_error2)\"\"\""
   ]
  },
  {
   "cell_type": "code",
   "execution_count": 11,
   "id": "8ada3ecf",
   "metadata": {},
   "outputs": [
    {
     "data": {
      "text/plain": [
       "<ErrorbarContainer object of 3 artists>"
      ]
     },
     "execution_count": 11,
     "metadata": {},
     "output_type": "execute_result"
    },
    {
     "data": {
      "image/png": "[encoded data removed]",
      "text/plain": [
       "<Figure size 432x288 with 1 Axes>"
      ]
     },
     "metadata": {
      "needs_background": "light"
     },
     "output_type": "display_data"
    }
   ],
   "source": [
    "# plotting ln(p) vs 1/T fpr increasing pressure\n",
    "plt.plot(T_inv1,ln_p1,'--r',marker='o')\n",
    "plt.title(\"ln(p) over 1/T for increasing pressure\")\n",
    "plt.xlabel(\"1/T [1/K]\")\n",
    "plt.ylabel(\"ln(p)\")\n",
    "\n",
    "plt.errorbar(T_inv1,ln_p1,xerr=T_inv_error1,yerr=ln_p_err1,fmt='--r',ecolor='r')"
   ]
  },
  {
   "cell_type": "code",
   "execution_count": 12,
   "id": "87e8b4b8",
   "metadata": {},
   "outputs": [
    {
     "name": "stdout",
     "output_type": "stream",
     "text": [
      "-3767.7666115426737\n"
     ]
    }
   ],
   "source": [
    "# extracting the slope\n",
    "slope1, intercept1 = np.polyfit(T_inv1,ln_p1,1)\n",
    "print(slope1)"
   ]
  },
  {
   "cell_type": "code",
   "execution_count": 13,
   "id": "41040b7d",
   "metadata": {},
   "outputs": [
    {
     "name": "stdout",
     "output_type": "stream",
     "text": [
      "31325.21160836579\n"
     ]
    }
   ],
   "source": [
    "# calculating vaporization enthalpy for increasing pressure\n",
    "vap_enthalpy1 = slope1 * -8.314\n",
    "print(vap_enthalpy1)"
   ]
  },
  {
   "cell_type": "code",
   "execution_count": 14,
   "id": "cf51a052",
   "metadata": {},
   "outputs": [
    {
     "data": {
      "text/plain": [
       "<ErrorbarContainer object of 3 artists>"
      ]
     },
     "execution_count": 14,
     "metadata": {},
     "output_type": "execute_result"
    },
    {
     "data": {
      "image/png": "[encoded data removed]",
      "text/plain": [
       "<Figure size 432x288 with 1 Axes>"
      ]
     },
     "metadata": {
      "needs_background": "light"
     },
     "output_type": "display_data"
    }
   ],
   "source": [
    "# plotting ln(p) vs 1/T for decreasing pressure\n",
    "plt.plot(T_inv2,ln_p2,'--b',marker='d')\n",
    "plt.title(\"ln(p) over 1/T for decreasing pressure\")\n",
    "plt.xlabel(\"1/T [1/K]\")\n",
    "plt.ylabel(\"ln(p)\")\n",
    "\n",
    "plt.errorbar(T_inv2,ln_p2,xerr=T_inv_error2,yerr=ln_p_err2,fmt='--b',ecolor='b')"
   ]
  },
  {
   "cell_type": "code",
   "execution_count": 15,
   "id": "f13ed38a",
   "metadata": {},
   "outputs": [
    {
     "name": "stdout",
     "output_type": "stream",
     "text": [
      "-3710.168706883392\n"
     ]
    }
   ],
   "source": [
    "# extracting the slope\n",
    "slope2, intercept2 = np.polyfit(T_inv2,ln_p2,1)\n",
    "print(slope2)"
   ]
  },
  {
   "cell_type": "code",
   "execution_count": 16,
   "id": "f86e2457",
   "metadata": {},
   "outputs": [
    {
     "name": "stdout",
     "output_type": "stream",
     "text": [
      "30846.34262902852\n"
     ]
    }
   ],
   "source": [
    "# calculating vaporization enthalpy for decreasing pressure\n",
    "vap_enthalpy2 = slope2 * -8.314\n",
    "print(vap_enthalpy2)"
   ]
  },
  {
   "cell_type": "code",
   "execution_count": 17,
   "id": "a3b63159",
   "metadata": {},
   "outputs": [
    {
     "name": "stdout",
     "output_type": "stream",
     "text": [
      "[20050.0, 29980.0, 40110.0, 49900.0, 59929.99999999999, 69780.0, 79560.0, 90060.0, 97600.0]\n",
      "[20040.0, 29930.0, 40040.0, 50120.0, 60040.0, 70140.0, 80000.0, 89960.0, 97600.0]\n",
      "100.0\n",
      "-440.0\n"
     ]
    }
   ],
   "source": [
    "print(p1_Pa)\n",
    "p2_Pa_rev = p2_Pa[::-1]\n",
    "print(p2_Pa_rev)\n",
    "\n",
    "p_diff = [x - p2_Pa_rev[p1_Pa.index(x)] for x in p1_Pa]\n",
    "print(max(p_diff))\n",
    "print(min(p_diff))"
   ]
  },
  {
   "cell_type": "code",
   "execution_count": null,
   "id": "fe7b2d2a",
   "metadata": {},
   "outputs": [],
   "source": []
  }
 ],
 "metadata": {
  "kernelspec": {
   "display_name": "Python 3 (ipykernel)",
   "language": "python",
   "name": "python3"
  },
  "language_info": {
   "codemirror_mode": {
    "name": "ipython",
    "version": 3
   },
   "file_extension": ".py",
   "mimetype": "text/x-python",
   "name": "python",
   "nbconvert_exporter": "python",
   "pygments_lexer": "ipython3",
   "version": "3.10.2"
  }
 },
 "nbformat": 4,
 "nbformat_minor": 5
}
