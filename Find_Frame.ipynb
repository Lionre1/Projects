{
 "cells": [
  {
   "cell_type": "code",
   "execution_count": 1,
   "id": "cc1a7117",
   "metadata": {},
   "outputs": [],
   "source": [
    "import numpy as np\n",
    "import pandas as pd"
   ]
  },
  {
   "cell_type": "code",
   "execution_count": 18,
   "id": "2717bde3",
   "metadata": {},
   "outputs": [],
   "source": [
    "df = pd.read_csv('HILLS_TPP_lda_u75_1_cp', delim_whitespace=True, header = 0)\n",
    "df.drop([0,1],axis=0,inplace=True)\n",
    "df.drop(['height','biasf'],axis=1,inplace=True)\n",
    "df.rename({'#!':'time','FIELDS':'sw','time':'distK_Au','sw':'sigma_sw','distK_Au':'sigma_distK_Au','sigma_sw':'height','sigma_distK_Au':'biasf'},axis=1,inplace=True)\n",
    "\n",
    "def find_frame(df):\n",
    "    # setup\n",
    "    sw_inp = float(input('sw: '))\n",
    "    dist_inp = float(input('dist: '))\n",
    "    inp_list = [sw_inp,dist_inp]\n",
    "    sw = df['sw'].tolist()\n",
    "    dist = df['distK_Au'].tolist()\n",
    "    dict_ = {}\n",
    "    dict_diff = {}\n",
    "    idx = 0\n",
    "    temp = 0\n",
    "    \n",
    "    # create dictionary\n",
    "    for elements in sw:\n",
    "        dict_[idx]=[sw[idx],dist[idx]]\n",
    "        idx += 1\n",
    "        \n",
    "    # reset counter\n",
    "    idx = 0\n",
    "        \n",
    "    # compute differences\n",
    "    for elements in dict_:\n",
    "        dict_diff[idx]=[abs(sw_inp - float(dict_[idx][0])) + abs(dist_inp - float(dict_[idx][1]))]\n",
    "        idx += 1\n",
    "        \n",
    "    #print(dict_diff.items())\n",
    "        \n",
    "    # find lowest values\n",
    "    min_entry = min(dict_diff.items(), key=lambda x: x[1])\n",
    "    \n",
    "    print(f't = {min_entry[0]+1}')\n",
    "    print(f'frame = {np.round((min_entry[0]+1)/10)}')\n",
    "    print(f'diff = {min_entry[1]}')"
   ]
  },
  {
   "cell_type": "code",
   "execution_count": 22,
   "id": "f4f47e72",
   "metadata": {},
   "outputs": [
    {
     "name": "stdout",
     "output_type": "stream",
     "text": [
      "sw: 2.7229\n",
      "dist: 0.6374\n",
      "t = 13640\n",
      "frame = 1364.0\n",
      "diff = [0.005232350854005308]\n"
     ]
    }
   ],
   "source": [
    "find_frame(df)"
   ]
  },
  {
   "cell_type": "code",
   "execution_count": 23,
   "id": "a806b487",
   "metadata": {},
   "outputs": [
    {
     "name": "stdout",
     "output_type": "stream",
     "text": [
      "sw: -2.7229\n",
      "dist: 2.0000\n",
      "t = 23\n",
      "frame = 2.0\n",
      "diff = [0.17690836261215104]\n"
     ]
    }
   ],
   "source": [
    "find_frame(df)"
   ]
  },
  {
   "cell_type": "code",
   "execution_count": null,
   "id": "66a3dc79",
   "metadata": {},
   "outputs": [],
   "source": []
  }
 ],
 "metadata": {
  "kernelspec": {
   "display_name": "Python 3 (ipykernel)",
   "language": "python",
   "name": "python3"
  },
  "language_info": {
   "codemirror_mode": {
    "name": "ipython",
    "version": 3
   },
   "file_extension": ".py",
   "mimetype": "text/x-python",
   "name": "python",
   "nbconvert_exporter": "python",
   "pygments_lexer": "ipython3",
   "version": "3.10.2"
  }
 },
 "nbformat": 4,
 "nbformat_minor": 5
}
