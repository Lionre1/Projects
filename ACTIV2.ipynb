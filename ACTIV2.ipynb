{
 "cells": [
  {
   "cell_type": "code",
   "execution_count": 1,
   "id": "d6dcce79",
   "metadata": {},
   "outputs": [],
   "source": [
    "import pandas as pd\n",
    "import openpyxl\n",
    "import numpy as np\n",
    "import scipy.stats as stats\n",
    "import matplotlib.pyplot as plt\n",
    "from sklearn.linear_model import LinearRegression\n",
    "import statistics\n",
    "import math"
   ]
  },
  {
   "cell_type": "markdown",
   "id": "dcff8cdc",
   "metadata": {},
   "source": [
    "# Linear Regression"
   ]
  },
  {
   "cell_type": "markdown",
   "id": "a0b8cd79",
   "metadata": {},
   "source": [
    "# 25"
   ]
  },
  {
   "cell_type": "code",
   "execution_count": 2,
   "id": "6e3469e8",
   "metadata": {},
   "outputs": [],
   "source": [
    "data = pd.read_excel(r\"C:\\Users\\lionr\\OneDrive\\Desktop\\Biochemie\\PC Praktikum\\ACTIV\\ACTIV2-25.xlsx\")"
   ]
  },
  {
   "cell_type": "code",
   "execution_count": 3,
   "id": "8214eb2b",
   "metadata": {},
   "outputs": [],
   "source": [
    "df25 = pd.DataFrame(data)"
   ]
  },
  {
   "cell_type": "code",
   "execution_count": 4,
   "id": "d5f5b1ee",
   "metadata": {},
   "outputs": [
    {
     "name": "stdout",
     "output_type": "stream",
     "text": [
      "[2.3, 2.3, 2.3, 2.3, 2.3, 2.3, 2.3, 2.3, 2.3, 2.3, 2.3, 2.3, 2.3, 2.3, 2.3, 2.3, 2.3, 2.3, 2.3, 2.3, 2.3, 2.3, 2.3, 2.3, 2.3, 2.3, 2.3, 2.3, 2.3, 2.3, 2.3, 2.3, 2.3, 2.3, 2.3, 2.3, 2.3, 2.3, 2.3, 2.3, 2.3, 2.3, 2.3, 2.3, 2.3, 2.3, 2.3, 2.3, 2.3, 2.3, 2.3, 2.3, 2.3, 2.3, 2.3, 2.3, 2.3, 2.3, 2.3, 2.3, 2.3, 2.3, 2.3, 2.3, 2.3, 2.3, 2.3, 2.3, 2.3, 2.3, 2.3, 2.3, 2.3, 2.3, 2.3, 2.3, 2.3, 2.3, 2.3, 2.3, 2.3, 2.3, 2.3, 2.3, 2.3, 2.3, 2.3, 2.3, 2.3, 2.3, 2.3, 2.3, 2.3, 2.3, 2.3, 2.3, 2.3, 2.3, 2.3, 2.3]\n",
      "[12.1, 12.1, 18.4, 18.4, 23.8, 23.8, 29.1, 29.1, 34.5, 34.5, 39.8, 39.8, 45.1, 45.1, 50.3, 50.3, 55.6, 55.6, 60.9, 60.9, 66.0, 66.0, 71.2, 71.2, 76.4, 76.4, 81.5, 81.5, 86.7, 86.7, 91.7, 91.7, 96.9, 96.9, 101.9, 101.9, 107.0, 107.0, 112.1, 112.1, 117.1, 117.1, 122.1, 122.1, 127.1, 127.1, 132.1, 132.1, 137.1, 137.1]\n"
     ]
    }
   ],
   "source": [
    "t25 = list(df25[\"t\"])\n",
    "T25 = list(df25[\"T\"])\n",
    "C25 = list(df25[\"C\"])\n",
    "\n",
    "idx = 0\n",
    "print(C25[0:100])\n",
    "for x in C25:\n",
    "    if C25[0]<5.0:\n",
    "        t25.pop(0)\n",
    "        T25.pop(0)\n",
    "        C25.pop(0)\n",
    "print(C25[0:50])"
   ]
  },
  {
   "cell_type": "code",
   "execution_count": 5,
   "id": "147e68f5",
   "metadata": {},
   "outputs": [
    {
     "data": {
      "text/plain": [
       "Text(0, 0.5, 'C [µS/cm]')"
      ]
     },
     "execution_count": 5,
     "metadata": {},
     "output_type": "execute_result"
    },
    {
     "data": {
      "image/png": "[encoded data removed]",
      "text/plain": [
       "<Figure size 432x288 with 1 Axes>"
      ]
     },
     "metadata": {
      "needs_background": "light"
     },
     "output_type": "display_data"
    }
   ],
   "source": [
    "plt.plot(t25,C25)\n",
    "plt.title(\"T = 25°C\")\n",
    "plt.xlabel(\"t [s]\")\n",
    "plt.ylabel(\"C [µS/cm]\")"
   ]
  },
  {
   "cell_type": "code",
   "execution_count": 6,
   "id": "696d4a7f",
   "metadata": {},
   "outputs": [
    {
     "data": {
      "text/plain": [
       "LinregressResult(slope=1.1869416943147673, intercept=232.71177830051124, rvalue=0.978673306976898, pvalue=0.0, stderr=0.0057798636608585845, intercept_stderr=6.777752548304463)"
      ]
     },
     "execution_count": 6,
     "metadata": {},
     "output_type": "execute_result"
    }
   ],
   "source": [
    "stats.linregress(t25,C25)"
   ]
  },
  {
   "cell_type": "code",
   "execution_count": 7,
   "id": "92a58767",
   "metadata": {},
   "outputs": [
    {
     "name": "stdout",
     "output_type": "stream",
     "text": [
      "             t         T         C\n",
      "0     1.731173  2.964366  1.926150\n",
      "1     1.729417  1.250212  1.926150\n",
      "2     1.727662  1.250212  1.926150\n",
      "3     1.725906  2.964366  1.926150\n",
      "4     1.724150  2.964366  1.926150\n",
      "...        ...       ...       ...\n",
      "1968  1.724150  2.178097  1.302856\n",
      "1969  1.725906  2.178097  1.304248\n",
      "1970  1.727662  0.463942  1.305640\n",
      "1971  1.729417  2.178097  1.305640\n",
      "1972  1.731173  2.178097  1.305640\n",
      "\n",
      "[1973 rows x 3 columns]\n"
     ]
    }
   ],
   "source": [
    "z = np.abs(stats.zscore(df25))\n",
    "print(z)\n",
    "df25_clean = df25[(z<0.9)]"
   ]
  },
  {
   "cell_type": "code",
   "execution_count": 8,
   "id": "d501631d",
   "metadata": {},
   "outputs": [],
   "source": [
    "t25_clean = df25_clean[\"t\"]\n",
    "C25_clean = df25_clean[\"C\"]"
   ]
  },
  {
   "cell_type": "code",
   "execution_count": 9,
   "id": "9c201c72",
   "metadata": {},
   "outputs": [
    {
     "data": {
      "text/plain": [
       "[<matplotlib.lines.Line2D at 0x2cf4e9be4a0>]"
      ]
     },
     "execution_count": 9,
     "metadata": {},
     "output_type": "execute_result"
    },
    {
     "data": {
      "image/png": "[encoded data removed]",
      "text/plain": [
       "<Figure size 432x288 with 1 Axes>"
      ]
     },
     "metadata": {
      "needs_background": "light"
     },
     "output_type": "display_data"
    }
   ],
   "source": [
    "plt.plot(df25_clean[\"t\"],df25_clean[\"C\"])"
   ]
  },
  {
   "cell_type": "code",
   "execution_count": 10,
   "id": "57fb582a",
   "metadata": {},
   "outputs": [
    {
     "name": "stdout",
     "output_type": "stream",
     "text": [
      "25.572934617334013\n"
     ]
    }
   ],
   "source": [
    "T1_mean = np.mean(df25[\"T\"])\n",
    "print(T1_mean)"
   ]
  },
  {
   "cell_type": "markdown",
   "id": "2403d0e0",
   "metadata": {},
   "source": [
    "# 30"
   ]
  },
  {
   "cell_type": "code",
   "execution_count": 11,
   "id": "497dab16",
   "metadata": {},
   "outputs": [],
   "source": [
    "data30 = pd.read_excel(r\"C:\\Users\\lionr\\OneDrive\\Desktop\\Biochemie\\PC Praktikum\\ACTIV\\ACTIV2-30.xlsx\")\n",
    "df30 = pd.DataFrame(data30)"
   ]
  },
  {
   "cell_type": "code",
   "execution_count": 12,
   "id": "dc880829",
   "metadata": {},
   "outputs": [
    {
     "data": {
      "text/plain": [
       "'t30 = t30[0:900]\\nT30 = T30[0:900]\\nC30 = C30[0:900]'"
      ]
     },
     "execution_count": 12,
     "metadata": {},
     "output_type": "execute_result"
    }
   ],
   "source": [
    "t30 = list(df30[\"t\"])\n",
    "T30 = list(df30[\"T\"])\n",
    "C30 = list(df30[\"C\"])\n",
    "\"\"\"t30 = t30[0:900]\n",
    "T30 = T30[0:900]\n",
    "C30 = C30[0:900]\"\"\""
   ]
  },
  {
   "cell_type": "code",
   "execution_count": 13,
   "id": "ce50ba79",
   "metadata": {},
   "outputs": [
    {
     "name": "stdout",
     "output_type": "stream",
     "text": [
      "[2.5, 2.4, 2.4, 2.5, 2.5, 2.5, 2.5, 2.4, 2.4, 2.5, 2.5, 2.5, 2.5, 2.4, 2.4, 2.5, 2.5, 2.4, 2.4, 2.5, 2.5, 2.5, 2.5, 2.4, 2.4, 2.5, 2.5, 2.4, 2.4, 2.5, 2.5, 2.4, 2.4, 2.5, 2.5, 2.4, 2.4, 2.5, 2.5, 2.4, 2.4, 2.5, 2.5, 2.4, 2.4, 2.5, 2.5, 2.4, 2.4, 2.5, 2.5, 2.4, 2.4, 2.5, 2.5, 2.4, 2.4, 2.5, 2.5, 2.5, 2.5, 7.8, 7.8, 23.0, 23.0, 34.1, 34.1, 45.9, 45.9, 57.5, 57.5, 69.0, 69.0, 80.4, 80.4, 91.7, 91.7, 103.0, 103.0, 114.2, 114.2, 125.2, 125.2, 136.2, 136.2, 147.2, 147.2, 158.1, 158.1, 168.8, 168.8, 179.6, 179.6, 190.2, 190.2, 200.9, 200.9, 211.4, 211.4, 221.8]\n",
      "[23.0, 23.0, 34.1, 34.1, 45.9, 45.9, 57.5, 57.5, 69.0, 69.0, 80.4, 80.4, 91.7, 91.7, 103.0, 103.0, 114.2, 114.2, 125.2, 125.2, 136.2, 136.2, 147.2, 147.2, 158.1, 158.1, 168.8, 168.8, 179.6, 179.6, 190.2, 190.2, 200.9, 200.9, 211.4, 211.4, 221.8, 221.8, 232.3, 232.3, 242.6, 242.6, 252.9, 252.9, 263.2, 263.2, 273.4, 273.4, 283.5, 283.5]\n"
     ]
    }
   ],
   "source": [
    "idx = 0\n",
    "print(C30[0:100])\n",
    "for x in C30:\n",
    "    if C30[0]<10.0:\n",
    "        t30.pop(0)\n",
    "        T30.pop(0)\n",
    "        C30.pop(0)\n",
    "print(C30[0:50])"
   ]
  },
  {
   "cell_type": "code",
   "execution_count": 14,
   "id": "9faec6fd",
   "metadata": {},
   "outputs": [
    {
     "data": {
      "text/plain": [
       "Text(0, 0.5, 'C [µS/cm]')"
      ]
     },
     "execution_count": 14,
     "metadata": {},
     "output_type": "execute_result"
    },
    {
     "data": {
      "image/png": "[encoded data removed]",
      "text/plain": [
       "<Figure size 432x288 with 1 Axes>"
      ]
     },
     "metadata": {
      "needs_background": "light"
     },
     "output_type": "display_data"
    }
   ],
   "source": [
    "plt.plot(t30,C30)\n",
    "plt.title(\"T = 30°C\")\n",
    "plt.xlabel(\"t [s]\")\n",
    "plt.ylabel(\"C [µS/cm]\")"
   ]
  },
  {
   "cell_type": "code",
   "execution_count": 15,
   "id": "54181fcd",
   "metadata": {},
   "outputs": [
    {
     "data": {
      "text/plain": [
       "LinregressResult(slope=1.4616909039703163, intercept=785.731226402733, rvalue=0.9435685232078459, pvalue=0.0, stderr=0.011863748534046953, intercept_stderr=13.469582886965922)"
      ]
     },
     "execution_count": 15,
     "metadata": {},
     "output_type": "execute_result"
    }
   ],
   "source": [
    "stats.linregress(t30,C30)"
   ]
  },
  {
   "cell_type": "code",
   "execution_count": 16,
   "id": "621a82cf",
   "metadata": {},
   "outputs": [],
   "source": [
    "z = np.abs(stats.zscore(df30))\n",
    "\n",
    "df30_clean = df30[(z<0.7).all(axis=1)]"
   ]
  },
  {
   "cell_type": "code",
   "execution_count": 17,
   "id": "f5d5cb3d",
   "metadata": {},
   "outputs": [],
   "source": [
    "t30_clean = df30_clean[\"t\"]\n",
    "C30_clean = df30_clean[\"C\"]"
   ]
  },
  {
   "cell_type": "code",
   "execution_count": 18,
   "id": "e186e276",
   "metadata": {},
   "outputs": [
    {
     "data": {
      "text/plain": [
       "[<matplotlib.lines.Line2D at 0x2cf50e0dab0>]"
      ]
     },
     "execution_count": 18,
     "metadata": {},
     "output_type": "execute_result"
    },
    {
     "data": {
      "image/png": "[encoded data removed]",
      "text/plain": [
       "<Figure size 432x288 with 1 Axes>"
      ]
     },
     "metadata": {
      "needs_background": "light"
     },
     "output_type": "display_data"
    }
   ],
   "source": [
    "coef = np.polyfit(df30_clean[\"t\"],df30_clean[\"C\"],1)\n",
    "poly1d_fn = np.poly1d(coef)\n",
    "\n",
    "plt.plot(df30_clean[\"t\"],df30_clean[\"C\"])"
   ]
  },
  {
   "cell_type": "code",
   "execution_count": 19,
   "id": "d2eb30c6",
   "metadata": {},
   "outputs": [
    {
     "data": {
      "text/plain": [
       "LinregressResult(slope=1.542551282627164, intercept=680.5675350225297, rvalue=0.9421582219469624, pvalue=0.0, stderr=0.01248139026894059, intercept_stderr=13.93846463426408)"
      ]
     },
     "execution_count": 19,
     "metadata": {},
     "output_type": "execute_result"
    }
   ],
   "source": [
    "stats.linregress(df30[\"t\"],df30[\"C\"])"
   ]
  },
  {
   "cell_type": "code",
   "execution_count": 20,
   "id": "38352621",
   "metadata": {},
   "outputs": [
    {
     "name": "stdout",
     "output_type": "stream",
     "text": [
      "29.9\n"
     ]
    }
   ],
   "source": [
    "T2_mean = np.mean(df30_clean[\"T\"])\n",
    "print(T2_mean)"
   ]
  },
  {
   "cell_type": "markdown",
   "id": "d3e9d388",
   "metadata": {},
   "source": [
    "# 35"
   ]
  },
  {
   "cell_type": "code",
   "execution_count": 21,
   "id": "19e77030",
   "metadata": {},
   "outputs": [],
   "source": [
    "data35 = pd.read_excel(r\"C:\\Users\\lionr\\OneDrive\\Desktop\\Biochemie\\PC Praktikum\\ACTIV\\ACTIV2-35.xlsx\")\n",
    "df35 = pd.DataFrame(data35)"
   ]
  },
  {
   "cell_type": "code",
   "execution_count": 22,
   "id": "73644761",
   "metadata": {},
   "outputs": [
    {
     "data": {
      "text/plain": [
       "'t35 = t35[0:900]\\nT35 = T35[0:900]\\nC35 = C35[0:900]\\n\\nnew35 = {\\n    \"t\": t35,\\n    \"T\": T35,\\n    \"C\": C35\\n}\\ndf35 = pd.DataFrame(new35)'"
      ]
     },
     "execution_count": 22,
     "metadata": {},
     "output_type": "execute_result"
    }
   ],
   "source": [
    "t35 = list(df35[\"t\"])\n",
    "T35 = list(df35[\"T\"])\n",
    "C35 = list(df35[\"C\"])\n",
    "\"\"\"t35 = t35[0:900]\n",
    "T35 = T35[0:900]\n",
    "C35 = C35[0:900]\n",
    "\n",
    "new35 = {\n",
    "    \"t\": t35,\n",
    "    \"T\": T35,\n",
    "    \"C\": C35\n",
    "}\n",
    "df35 = pd.DataFrame(new35)\"\"\""
   ]
  },
  {
   "cell_type": "code",
   "execution_count": 23,
   "id": "9add432b",
   "metadata": {},
   "outputs": [
    {
     "name": "stdout",
     "output_type": "stream",
     "text": [
      "[23.0, 23.0, 34.1, 34.1, 45.9, 45.9, 57.5, 57.5, 69.0, 69.0, 80.4, 80.4, 91.7, 91.7, 103.0, 103.0, 114.2, 114.2, 125.2, 125.2, 136.2, 136.2, 147.2, 147.2, 158.1, 158.1, 168.8, 168.8, 179.6, 179.6, 190.2, 190.2, 200.9, 200.9, 211.4, 211.4, 221.8, 221.8, 232.3, 232.3, 242.6, 242.6, 252.9, 252.9, 263.2, 263.2, 273.4, 273.4, 283.5, 283.5, 293.5, 293.5, 303.6, 303.6, 313.5, 313.5, 323.5, 323.5, 333.3, 333.3, 343.2, 343.2, 352.9, 352.9, 362.7, 362.7, 372.3, 372.3, 382.0, 382.0, 391.5, 391.5, 401.1, 401.1, 410.6, 410.6, 420.0, 420.0, 429.5, 429.5, 438.8, 438.8, 448.2, 448.2, 457.4, 457.4, 466.6, 466.6, 475.8, 475.8, 485.0, 485.0, 494.1, 494.1, 503.1, 503.1, 512.1, 512.1, 521.2, 521.2]\n",
      "[57.5, 57.5, 69.0, 69.0, 80.4, 80.4, 91.7, 91.7, 103.0, 103.0, 114.2, 114.2, 125.2, 125.2, 136.2, 136.2, 147.2, 147.2, 158.1, 158.1, 168.8, 168.8, 179.6, 179.6, 190.2, 190.2, 200.9, 200.9, 211.4, 211.4, 221.8, 221.8, 232.3, 232.3, 242.6, 242.6, 252.9, 252.9, 263.2, 263.2, 273.4, 273.4, 283.5, 283.5, 293.5, 293.5, 303.6, 303.6, 313.5, 313.5]\n"
     ]
    }
   ],
   "source": [
    "idx = 0\n",
    "print(C30[0:100])\n",
    "for x in C30:\n",
    "    if C30[0]<50.0:\n",
    "        t30.pop(0)\n",
    "        T30.pop(0)\n",
    "        C30.pop(0)\n",
    "print(C30[0:50])"
   ]
  },
  {
   "cell_type": "code",
   "execution_count": 24,
   "id": "17129137",
   "metadata": {},
   "outputs": [],
   "source": [
    "t35 = t35[:1800]\n",
    "C35 = C35[:1800]"
   ]
  },
  {
   "cell_type": "code",
   "execution_count": 25,
   "id": "358e4bba",
   "metadata": {},
   "outputs": [
    {
     "data": {
      "text/plain": [
       "Text(0, 0.5, 'C [µS/cm]')"
      ]
     },
     "execution_count": 25,
     "metadata": {},
     "output_type": "execute_result"
    },
    {
     "data": {
      "image/png": "[encoded data removed]",
      "text/plain": [
       "<Figure size 432x288 with 1 Axes>"
      ]
     },
     "metadata": {
      "needs_background": "light"
     },
     "output_type": "display_data"
    }
   ],
   "source": [
    "plt.plot(t35,C35)\n",
    "plt.title(\"T = 35°C\")\n",
    "plt.xlabel(\"t [s]\")\n",
    "plt.ylabel(\"C [µS/cm]\")"
   ]
  },
  {
   "cell_type": "code",
   "execution_count": 26,
   "id": "b626f204",
   "metadata": {},
   "outputs": [],
   "source": [
    "z = np.abs(stats.zscore(df35))\n",
    "\n",
    "df35_clean = df35[(z<2.5).all(axis=1)]"
   ]
  },
  {
   "cell_type": "code",
   "execution_count": 27,
   "id": "d1829934",
   "metadata": {},
   "outputs": [
    {
     "data": {
      "text/plain": [
       "[<matplotlib.lines.Line2D at 0x2cf50ff27d0>]"
      ]
     },
     "execution_count": 27,
     "metadata": {},
     "output_type": "execute_result"
    },
    {
     "data": {
      "image/png": "[encoded data removed]",
      "text/plain": [
       "<Figure size 432x288 with 1 Axes>"
      ]
     },
     "metadata": {
      "needs_background": "light"
     },
     "output_type": "display_data"
    }
   ],
   "source": [
    "plt.plot(t35[:1800],C35[:1800])"
   ]
  },
  {
   "cell_type": "code",
   "execution_count": 28,
   "id": "0da0bdfb",
   "metadata": {},
   "outputs": [
    {
     "name": "stdout",
     "output_type": "stream",
     "text": [
      "34.197785349233385\n"
     ]
    }
   ],
   "source": [
    "T3_mean = np.mean(df35[\"T\"])\n",
    "print(T3_mean)"
   ]
  },
  {
   "cell_type": "code",
   "execution_count": 29,
   "id": "db8745d3",
   "metadata": {},
   "outputs": [],
   "source": [
    "max_C35 = max(list(df35[\"C\"]))"
   ]
  },
  {
   "cell_type": "code",
   "execution_count": 30,
   "id": "98c1e184",
   "metadata": {},
   "outputs": [
    {
     "name": "stdout",
     "output_type": "stream",
     "text": [
      "3136.0\n"
     ]
    }
   ],
   "source": [
    "max_C30 = np.mean([3139,3136,3133])\n",
    "print(max_C30)"
   ]
  },
  {
   "cell_type": "code",
   "execution_count": 31,
   "id": "57a8e52a",
   "metadata": {},
   "outputs": [
    {
     "name": "stdout",
     "output_type": "stream",
     "text": [
      "2755.0\n"
     ]
    }
   ],
   "source": [
    "max_C25 = np.mean([2756,2755,2754])\n",
    "print(max_C25)"
   ]
  },
  {
   "cell_type": "markdown",
   "id": "2ab45a57",
   "metadata": {},
   "source": [
    "# Arrhenius Plot"
   ]
  },
  {
   "cell_type": "code",
   "execution_count": 32,
   "id": "692d8598",
   "metadata": {},
   "outputs": [],
   "source": [
    "plot_data25 = [math.log(max_C25/(max_C25-x)) for x in C25]\n",
    "plot_data25_clean = [math.log(max_C25/(max_C25-x)) for x in df25_clean[\"C\"]]"
   ]
  },
  {
   "cell_type": "code",
   "execution_count": 33,
   "id": "ea7a2257",
   "metadata": {},
   "outputs": [
    {
     "data": {
      "text/plain": [
       "Text(0, 0.5, \"ln x'ce'/(x'ce'-x'c')\")"
      ]
     },
     "execution_count": 33,
     "metadata": {},
     "output_type": "execute_result"
    },
    {
     "data": {
      "image/png": "[encoded data removed]",
      "text/plain": [
       "<Figure size 432x288 with 1 Axes>"
      ]
     },
     "metadata": {
      "needs_background": "light"
     },
     "output_type": "display_data"
    }
   ],
   "source": [
    "plt.plot(t25,plot_data25,'yo')\n",
    "plt.title(\"T = 25°C\")\n",
    "plt.xlabel(\"t [s]\")\n",
    "plt.ylabel(\"ln x'ce'/(x'ce'-x'c')\")"
   ]
  },
  {
   "cell_type": "code",
   "execution_count": 34,
   "id": "fbfc791d",
   "metadata": {},
   "outputs": [
    {
     "data": {
      "text/plain": [
       "LinregressResult(slope=0.0009837169069727301, intercept=-0.1282837991946284, rvalue=0.9995518984592405, pvalue=0.0, stderr=6.834338595802728e-07, intercept_stderr=0.0008014281746361565)"
      ]
     },
     "execution_count": 34,
     "metadata": {},
     "output_type": "execute_result"
    }
   ],
   "source": [
    "stats.linregress(t25,plot_data25)"
   ]
  },
  {
   "cell_type": "code",
   "execution_count": 35,
   "id": "00d6dfd2",
   "metadata": {},
   "outputs": [
    {
     "data": {
      "text/plain": [
       "Text(0, 0.5, \"ln x'ce'/(x'ce'-x'c')\")"
      ]
     },
     "execution_count": 35,
     "metadata": {},
     "output_type": "execute_result"
    },
    {
     "data": {
      "image/png": "[encoded data removed]",
      "text/plain": [
       "<Figure size 432x288 with 1 Axes>"
      ]
     },
     "metadata": {
      "needs_background": "light"
     },
     "output_type": "display_data"
    }
   ],
   "source": [
    "plt.plot(t25_clean,plot_data25_clean,'yo')\n",
    "plt.title(\"T = 25°C\")\n",
    "plt.xlabel(\"t [s]\")\n",
    "plt.ylabel(\"ln x'ce'/(x'ce'-x'c')\")"
   ]
  },
  {
   "cell_type": "code",
   "execution_count": 36,
   "id": "7ec3e85d",
   "metadata": {},
   "outputs": [
    {
     "data": {
      "text/plain": [
       "LinregressResult(slope=nan, intercept=nan, rvalue=nan, pvalue=nan, stderr=nan, intercept_stderr=nan)"
      ]
     },
     "execution_count": 36,
     "metadata": {},
     "output_type": "execute_result"
    }
   ],
   "source": [
    "stats.linregress(t25_clean,plot_data25_clean)"
   ]
  },
  {
   "cell_type": "code",
   "execution_count": 37,
   "id": "71cf1db8",
   "metadata": {},
   "outputs": [],
   "source": [
    "k25 = 0.0009327"
   ]
  },
  {
   "cell_type": "code",
   "execution_count": 38,
   "id": "6aeabef1",
   "metadata": {},
   "outputs": [],
   "source": [
    "plot_data30 = [math.log(max_C30/(max_C30-x)) for x in C30 if (max_C30-x)!=0 and max_C30/(max_C30-x)>0]"
   ]
  },
  {
   "cell_type": "code",
   "execution_count": 39,
   "id": "a3ea2d5e",
   "metadata": {},
   "outputs": [],
   "source": [
    "plot_data30_clean = [math.log(max_C30/(max_C30-x)) for x in C30_clean if (max_C30-x)!=0 and max_C30/(max_C30-x)>0]"
   ]
  },
  {
   "cell_type": "code",
   "execution_count": 40,
   "id": "39a17aa5",
   "metadata": {},
   "outputs": [
    {
     "data": {
      "text/plain": [
       "[<matplotlib.lines.Line2D at 0x2cf520e3eb0>,\n",
       " <matplotlib.lines.Line2D at 0x2cf520fe680>]"
      ]
     },
     "execution_count": 40,
     "metadata": {},
     "output_type": "execute_result"
    },
    {
     "data": {
      "image/png": "[encoded data removed]",
      "text/plain": [
       "<Figure size 432x288 with 1 Axes>"
      ]
     },
     "metadata": {
      "needs_background": "light"
     },
     "output_type": "display_data"
    }
   ],
   "source": [
    "plt.plot(t30[:1800],plot_data30[:1800])\n",
    "plt.title(\"T = 30°C\")\n",
    "plt.xlabel(\"t [s]\")\n",
    "plt.ylabel(\"ln x'ce'/(x'ce'-x'c')\")\n",
    "\n",
    "coef = np.polyfit(t30[:1000],plot_data30[:1000],1)\n",
    "poly1d_fn = np.poly1d(coef)\n",
    "\n",
    "plt.plot(t30[:1800],plot_data30[:1800], 'yo', t30[:1800], poly1d_fn(t30[:1800]), '--k')"
   ]
  },
  {
   "cell_type": "code",
   "execution_count": 41,
   "id": "752aa4bf",
   "metadata": {},
   "outputs": [
    {
     "data": {
      "text/plain": [
       "LinregressResult(slope=0.001730721631182049, intercept=-0.10914542243597003, rvalue=0.9996492644165825, pvalue=0.0, stderr=1.45137998120811e-06, intercept_stderr=0.0009253904747796296)"
      ]
     },
     "execution_count": 41,
     "metadata": {},
     "output_type": "execute_result"
    }
   ],
   "source": [
    "stats.linregress(t30[:1000],plot_data30[:1000])"
   ]
  },
  {
   "cell_type": "code",
   "execution_count": 42,
   "id": "e8cdbc71",
   "metadata": {},
   "outputs": [],
   "source": [
    "k30 = 0.00173"
   ]
  },
  {
   "cell_type": "code",
   "execution_count": 43,
   "id": "4a3a3ed4",
   "metadata": {},
   "outputs": [
    {
     "name": "stdout",
     "output_type": "stream",
     "text": [
      "1800\n"
     ]
    }
   ],
   "source": [
    "print(len(C35))"
   ]
  },
  {
   "cell_type": "code",
   "execution_count": 44,
   "id": "ef08dd2c",
   "metadata": {},
   "outputs": [],
   "source": [
    "plot_data35 = [math.log(max_C35/(max_C35-x)) for x in C35 if (max_C35-x)!=0 and max_C35/(max_C35-x)>=0]"
   ]
  },
  {
   "cell_type": "code",
   "execution_count": 45,
   "id": "c1fcda85",
   "metadata": {},
   "outputs": [
    {
     "data": {
      "text/plain": [
       "[<matplotlib.lines.Line2D at 0x2cf52177460>,\n",
       " <matplotlib.lines.Line2D at 0x2cf52177520>]"
      ]
     },
     "execution_count": 45,
     "metadata": {},
     "output_type": "execute_result"
    },
    {
     "data": {
      "image/png": "[encoded data removed]",
      "text/plain": [
       "<Figure size 432x288 with 1 Axes>"
      ]
     },
     "metadata": {
      "needs_background": "light"
     },
     "output_type": "display_data"
    }
   ],
   "source": [
    "plt.plot(t35[:900],plot_data35[:900])\n",
    "plt.title(\"T = 35°C\")\n",
    "plt.xlabel(\"t [s]\")\n",
    "plt.ylabel(\"ln x'ce'/(x'ce'-x'c')\")\n",
    "\n",
    "coef = np.polyfit(t35[:600],plot_data35[:600],1)\n",
    "poly1d_fn = np.poly1d(coef)\n",
    "\n",
    "plt.plot(t35[:900],plot_data35[:900], 'yo', t35[:900], poly1d_fn(t35[:900]), '--k')"
   ]
  },
  {
   "cell_type": "code",
   "execution_count": 46,
   "id": "3b850218",
   "metadata": {},
   "outputs": [
    {
     "data": {
      "text/plain": [
       "LinregressResult(slope=0.0024214612529789466, intercept=0.009812434670109615, rvalue=0.9987754104849982, pvalue=0.0, stderr=4.904970026037269e-06, intercept_stderr=0.001697007396937468)"
      ]
     },
     "execution_count": 46,
     "metadata": {},
     "output_type": "execute_result"
    }
   ],
   "source": [
    "stats.linregress(t35[:600],plot_data35[:600])"
   ]
  },
  {
   "cell_type": "code",
   "execution_count": 47,
   "id": "9468d82c",
   "metadata": {},
   "outputs": [],
   "source": [
    "k35 = 0.00299"
   ]
  },
  {
   "cell_type": "code",
   "execution_count": 48,
   "id": "d083fb06",
   "metadata": {},
   "outputs": [
    {
     "data": {
      "text/plain": [
       "Text(0, 0.5, 'ln k')"
      ]
     },
     "execution_count": 48,
     "metadata": {},
     "output_type": "execute_result"
    },
    {
     "data": {
      "image/png": "[encoded data removed]",
      "text/plain": [
       "<Figure size 432x288 with 1 Axes>"
      ]
     },
     "metadata": {
      "needs_background": "light"
     },
     "output_type": "display_data"
    }
   ],
   "source": [
    "# Arrhenius plot\n",
    "k = [k25,k30,k35]\n",
    "ln_k = [math.log(x) for x in k]\n",
    "T = [T1_mean,T2_mean,T3_mean]\n",
    "T = [x+273.15 for x in T]\n",
    "T_inv = [1/x for x in T]\n",
    "\n",
    "coef = np.polyfit(T_inv,ln_k,1)\n",
    "poly1d_fn = np.poly1d(coef)\n",
    "\n",
    "plt.plot(T_inv,ln_k, 'yo', T_inv, poly1d_fn(T_inv), '--k')\n",
    "plt.title(\"Arrhenius plot\")\n",
    "plt.xlabel(\"1/T [1/K]\")\n",
    "plt.ylabel(\"ln k\")"
   ]
  },
  {
   "cell_type": "code",
   "execution_count": 49,
   "id": "c8b7c9c4",
   "metadata": {},
   "outputs": [
    {
     "data": {
      "text/plain": [
       "LinregressResult(slope=-12404.01364036127, intercept=34.554249308793395, rvalue=-0.9996919911599402, pvalue=0.01580111956189862, stderr=307.9350799470517, intercept_stderr=1.0163582840556507)"
      ]
     },
     "execution_count": 49,
     "metadata": {},
     "output_type": "execute_result"
    }
   ],
   "source": [
    "stats.linregress(T_inv,ln_k)"
   ]
  },
  {
   "cell_type": "code",
   "execution_count": 50,
   "id": "cfcae768",
   "metadata": {},
   "outputs": [
    {
     "name": "stdout",
     "output_type": "stream",
     "text": [
      "[298.722934617334, 303.04999999999995, 307.3477853492334]\n"
     ]
    }
   ],
   "source": [
    "print(T)"
   ]
  },
  {
   "cell_type": "code",
   "execution_count": 51,
   "id": "f80a9b24",
   "metadata": {},
   "outputs": [
    {
     "name": "stdout",
     "output_type": "stream",
     "text": [
      "[0.0009327, 0.00173, 0.00299]\n"
     ]
    }
   ],
   "source": [
    "print(k)"
   ]
  },
  {
   "cell_type": "code",
   "execution_count": 52,
   "id": "822c440a",
   "metadata": {},
   "outputs": [
    {
     "name": "stdout",
     "output_type": "stream",
     "text": [
      "[-6.977426952231457, -6.359633870472449, -5.812481891579542]\n"
     ]
    }
   ],
   "source": [
    "print(ln_k)"
   ]
  },
  {
   "cell_type": "code",
   "execution_count": 53,
   "id": "8df90ed0",
   "metadata": {},
   "outputs": [
    {
     "data": {
      "text/plain": [
       "103126.856"
      ]
     },
     "execution_count": 53,
     "metadata": {},
     "output_type": "execute_result"
    }
   ],
   "source": [
    "-12404.0 * -8.314"
   ]
  },
  {
   "cell_type": "markdown",
   "id": "ba955d95",
   "metadata": {},
   "source": [
    "# Fehlerrechnung"
   ]
  },
  {
   "cell_type": "code",
   "execution_count": 54,
   "id": "71639ece",
   "metadata": {},
   "outputs": [],
   "source": [
    "delta_T = 0.5"
   ]
  },
  {
   "cell_type": "code",
   "execution_count": 55,
   "id": "6ff42d3d",
   "metadata": {},
   "outputs": [
    {
     "data": {
      "text/plain": [
       "[<matplotlib.lines.Line2D at 0x2cf528c6890>]"
      ]
     },
     "execution_count": 55,
     "metadata": {},
     "output_type": "execute_result"
    },
    {
     "data": {
      "image/png": "[encoded data removed]",
      "text/plain": [
       "<Figure size 432x288 with 1 Axes>"
      ]
     },
     "metadata": {
      "needs_background": "light"
     },
     "output_type": "display_data"
    }
   ],
   "source": [
    "plt.plot(t25,C25)\n",
    "plt.title(\"T = 25°C\")\n",
    "plt.xlabel(\"t [s]\")\n",
    "plt.ylabel(\"C [µS/cm]\")\n",
    "\n",
    "C_err25 = [x*0.04+0.15 if x<=2500 else x*0.04+3 for x in C25]\n",
    "\n",
    "plt.errorbar(t25,C25,xerr=0,yerr=C_err25)\n",
    "\n",
    "plt.plot(t25,C25,'g')"
   ]
  },
  {
   "cell_type": "code",
   "execution_count": 56,
   "id": "e8aeb30f",
   "metadata": {},
   "outputs": [
    {
     "data": {
      "text/plain": [
       "[<matplotlib.lines.Line2D at 0x2cf52f7ee90>]"
      ]
     },
     "execution_count": 56,
     "metadata": {},
     "output_type": "execute_result"
    },
    {
     "data": {
      "image/png": "[encoded data removed]",
      "text/plain": [
       "<Figure size 432x288 with 1 Axes>"
      ]
     },
     "metadata": {
      "needs_background": "light"
     },
     "output_type": "display_data"
    }
   ],
   "source": [
    "plt.plot(t30,C30)\n",
    "plt.title(\"T = 30°C\")\n",
    "plt.xlabel(\"t [s]\")\n",
    "plt.ylabel(\"C [µS/cm]\")\n",
    "\n",
    "C_err30 = [x*0.04+0.15 if x<=2500 else x*0.04+3 for x in C30]\n",
    "\n",
    "plt.errorbar(t30,C30,xerr=0,yerr=C_err30)\n",
    "\n",
    "plt.plot(t30,C30,'g')"
   ]
  },
  {
   "cell_type": "code",
   "execution_count": 57,
   "id": "5b744ef0",
   "metadata": {},
   "outputs": [
    {
     "data": {
      "text/plain": [
       "[<matplotlib.lines.Line2D at 0x2cf53606e00>]"
      ]
     },
     "execution_count": 57,
     "metadata": {},
     "output_type": "execute_result"
    },
    {
     "data": {
      "image/png": "[encoded data removed]",
      "text/plain": [
       "<Figure size 432x288 with 1 Axes>"
      ]
     },
     "metadata": {
      "needs_background": "light"
     },
     "output_type": "display_data"
    }
   ],
   "source": [
    "plt.plot(t35,C35)\n",
    "plt.title(\"T = 35°C\")\n",
    "plt.xlabel(\"t [s]\")\n",
    "plt.ylabel(\"C [µS/cm]\")\n",
    "\n",
    "C_err35 = [x*0.04+0.15 if x<=2500 else x*0.04+3 for x in C35]\n",
    "\n",
    "plt.errorbar(t35,C35,xerr=0,yerr=C_err35)\n",
    "\n",
    "plt.plot(t35,C35,'g')"
   ]
  },
  {
   "cell_type": "code",
   "execution_count": 58,
   "id": "abac28c6",
   "metadata": {},
   "outputs": [
    {
     "name": "stdout",
     "output_type": "stream",
     "text": [
      "2755.0\n",
      "3136.0\n"
     ]
    }
   ],
   "source": [
    "print(max_C25)\n",
    "max_C25_error = max_C25*0.04 + 3\n",
    "print(max_C30)"
   ]
  },
  {
   "cell_type": "code",
   "execution_count": 59,
   "id": "937f5a65",
   "metadata": {},
   "outputs": [],
   "source": [
    "delta_lnx25 = [math.sqrt((((-x)/(max_C25*(max_C25-x)))*max_C25_error)**2 + ((1/(max_C25-x))*(x*0.04+0.15))**2) if x<=2500 else math.sqrt(((-x/max_C25*(max_C25-x))*max_C25_error)**2 + ((1/(max_C25-x))*(x*0.04+3))**2) for x in C25]\n",
    "delta_T_inv = [math.sqrt(((-1/x**2)*0.5)**2)]"
   ]
  },
  {
   "cell_type": "code",
   "execution_count": 60,
   "id": "41d56e90",
   "metadata": {},
   "outputs": [
    {
     "data": {
      "text/plain": [
       "<ErrorbarContainer object of 3 artists>"
      ]
     },
     "execution_count": 60,
     "metadata": {},
     "output_type": "execute_result"
    },
    {
     "data": {
      "image/png": "[encoded data removed]",
      "text/plain": [
       "<Figure size 432x288 with 1 Axes>"
      ]
     },
     "metadata": {
      "needs_background": "light"
     },
     "output_type": "display_data"
    }
   ],
   "source": [
    "plt.plot(t25,plot_data25)\n",
    "plt.title(\"T = 25°C\")\n",
    "plt.xlabel(\"t [s]\")\n",
    "plt.ylabel(\"ln x'ce'/(x'ce'-x'c')\")\n",
    "\n",
    "plt.errorbar(t25,plot_data25,xerr=0,yerr=delta_lnx25)"
   ]
  },
  {
   "cell_type": "code",
   "execution_count": 61,
   "id": "6d5a9be9",
   "metadata": {},
   "outputs": [
    {
     "name": "stdout",
     "output_type": "stream",
     "text": [
      "[0.00098372]\n",
      "[0.00083152]\n",
      "[0.00113592]\n"
     ]
    }
   ],
   "source": [
    "slope25, intercept25 = np.polyfit(np.array(t25),np.array(plot_data25).reshape(-1,1),1)\n",
    "print(slope25)\n",
    "plot_data25_min = [x - delta_lnx25[plot_data25.index(x)] for x in plot_data25]\n",
    "slope25_min, intercept25_min = np.polyfit(np.array(t25),np.array(plot_data25_min).reshape(-1,1),1)\n",
    "print(slope25_min)\n",
    "plot_data25_max = [x + delta_lnx25[plot_data25.index(x)] for x in plot_data25]\n",
    "slope25_max, intercept25_max = np.polyfit(np.array(t25),np.array(plot_data25_max).reshape(-1,1),1)\n",
    "print(slope25_max)"
   ]
  },
  {
   "cell_type": "code",
   "execution_count": 62,
   "id": "49cc6bbb",
   "metadata": {},
   "outputs": [
    {
     "data": {
      "text/plain": [
       "[<matplotlib.lines.Line2D at 0x2cf543316c0>]"
      ]
     },
     "execution_count": 62,
     "metadata": {},
     "output_type": "execute_result"
    },
    {
     "data": {
      "image/png": "[encoded data removed]",
      "text/plain": [
       "<Figure size 432x288 with 1 Axes>"
      ]
     },
     "metadata": {
      "needs_background": "light"
     },
     "output_type": "display_data"
    }
   ],
   "source": [
    "max_C30_error = max_C25_error\n",
    "delta_lnx30 = [math.sqrt((((-x)/(max_C30*(max_C30-x)))*max_C30_error)**2 + ((1/(max_C30-x))*(x*0.04+0.15))**2) if x<=2500 else math.sqrt((((-x)/(max_C30*(max_C30-x)))*max_C30_error)**2 + ((1/(max_C30-x))*(x*0.04+3))**2) for x in C30 if x!=max_C30]\n",
    "\n",
    "plt.plot(t30[:1700],plot_data30[:1700])\n",
    "plt.title(\"T = 30°C\")\n",
    "plt.xlabel(\"t [s]\")\n",
    "plt.ylabel(\"ln x'ce'/(x'ce'-x'c')\")\n",
    "\n",
    "plt.errorbar(t30[:1700],plot_data30[:1700],xerr=0,yerr=delta_lnx30[:1700])\n",
    "plt.plot(t30[:1700],plot_data30[:1700])"
   ]
  },
  {
   "cell_type": "code",
   "execution_count": 63,
   "id": "56cbafe6",
   "metadata": {},
   "outputs": [
    {
     "name": "stdout",
     "output_type": "stream",
     "text": [
      "[0.00242657]\n",
      "[-9.32837376e-05]\n",
      "[0.00494642]\n"
     ]
    }
   ],
   "source": [
    "t30 = t30[:1800]\n",
    "plot_data30 = plot_data30[:1800]\n",
    "slope30, intercept30 = np.polyfit(np.array(t30),np.array(plot_data30).reshape(-1,1),1)\n",
    "print(slope30)\n",
    "plot_data30_min = [x - delta_lnx30[plot_data30.index(x)] for x in plot_data30]\n",
    "slope30_min, intercept30_min = np.polyfit(np.array(t30),np.array(plot_data30_min).reshape(-1,1),1)\n",
    "print(slope30_min)\n",
    "plot_data30_max = [x + delta_lnx30[plot_data30.index(x)] for x in plot_data30]\n",
    "slope30_max, intercept30_max = np.polyfit(np.array(t30),np.array(plot_data30_max).reshape(-1,1),1)\n",
    "print(slope30_max)"
   ]
  },
  {
   "cell_type": "code",
   "execution_count": 64,
   "id": "c419579c",
   "metadata": {},
   "outputs": [],
   "source": [
    "from uncertainties import ufloat\n",
    "from uncertainties.umath import * "
   ]
  },
  {
   "cell_type": "code",
   "execution_count": 65,
   "id": "95f76115",
   "metadata": {},
   "outputs": [
    {
     "data": {
      "text/plain": [
       "[<matplotlib.lines.Line2D at 0x2cf556e8a90>]"
      ]
     },
     "execution_count": 65,
     "metadata": {},
     "output_type": "execute_result"
    },
    {
     "data": {
      "image/png": "[encoded data removed]",
      "text/plain": [
       "<Figure size 432x288 with 1 Axes>"
      ]
     },
     "metadata": {
      "needs_background": "light"
     },
     "output_type": "display_data"
    }
   ],
   "source": [
    "max_C35_error = max_C25_error\n",
    "delta_lnx35 = [math.sqrt((((-x)/(max_C35*(max_C35-x)))*max_C35_error)**2 + ((1/(max_C35-x))*(x*0.04+0.15))**2) if x<=2500 else math.sqrt((((-x)/(max_C35*(max_C35-x)))*max_C35_error)**2 + ((1/(max_C35-x))*(x*0.04+3))**2) for x in C35 if x!=max_C35]\n",
    "\n",
    "plt.plot(t35[:900],plot_data35[:900])\n",
    "plt.title(\"T = 35°C\")\n",
    "plt.xlabel(\"t [s]\")\n",
    "plt.ylabel(\"ln x'ce'/(x'ce'-x'c')\")\n",
    "\n",
    "plt.errorbar(t35[:900],plot_data35[:900],xerr=0,yerr=delta_lnx35[:900])\n",
    "plt.plot(t35[:900],plot_data35[:900])"
   ]
  },
  {
   "cell_type": "code",
   "execution_count": 66,
   "id": "de04010a",
   "metadata": {},
   "outputs": [
    {
     "name": "stdout",
     "output_type": "stream",
     "text": [
      "[0.00267406]\n",
      "[0.00216263]\n",
      "[0.00318549]\n"
     ]
    }
   ],
   "source": [
    "t35 = t35[:900]\n",
    "plot_data35 = plot_data35[:900]\n",
    "slope35, intercept35 = np.polyfit(np.array(t35),np.array(plot_data35).reshape(-1,1),1)\n",
    "print(slope35)\n",
    "plot_data35_min = [x - delta_lnx35[plot_data35.index(x)] for x in plot_data35]\n",
    "slope35_min, intercept35_min = np.polyfit(np.array(t35),np.array(plot_data35_min).reshape(-1,1),1)\n",
    "print(slope35_min)\n",
    "plot_data35_max = [x + delta_lnx35[plot_data35.index(x)] for x in plot_data35]\n",
    "slope35_max, intercept35_max = np.polyfit(np.array(t35),np.array(plot_data35_max).reshape(-1,1),1)\n",
    "print(slope35_max)"
   ]
  },
  {
   "cell_type": "code",
   "execution_count": 67,
   "id": "7738a34e",
   "metadata": {},
   "outputs": [
    {
     "data": {
      "text/plain": [
       "<matplotlib.legend.Legend at 0x2cf556fdc00>"
      ]
     },
     "execution_count": 67,
     "metadata": {},
     "output_type": "execute_result"
    },
    {
     "data": {
      "image/png": "[encoded data removed]",
      "text/plain": [
       "<Figure size 432x288 with 1 Axes>"
      ]
     },
     "metadata": {
      "needs_background": "light"
     },
     "output_type": "display_data"
    }
   ],
   "source": [
    "k = [k25,k30,k35]\n",
    "ln_k = [math.log(x) for x in k]\n",
    "delta_lnk = [0.416,0.160,0.185]\n",
    "ln_k_min = [ln_k[0]-delta_lnk[0],ln_k[1],ln_k[2]+delta_lnk[2]]\n",
    "ln_k_max = [ln_k[0]+delta_lnk[0],ln_k[1],ln_k[2]-delta_lnk[2]]\n",
    "T_mean = [T1_mean,T2_mean,T3_mean]\n",
    "delta_T = [((-1/(x**2))*0.5)**2 for x in T_mean]\n",
    "\n",
    "coef1 = np.polyfit(T_inv,ln_k,1)\n",
    "poly1d_fn1 = np.poly1d(coef1)\n",
    "\n",
    "coef2 = np.polyfit(T_inv,ln_k_min,1)\n",
    "poly1d_fn2 = np.poly1d(coef2)\n",
    "\n",
    "coef3 = np.polyfit(T_inv,ln_k_max,1)\n",
    "poly1d_fn3 = np.poly1d(coef3)\n",
    "\n",
    "plt.plot(T_inv, poly1d_fn(T_inv),'--r')\n",
    "plt.plot(T_inv, poly1d_fn2(T_inv),'--g')\n",
    "plt.plot(T_inv, poly1d_fn3(T_inv),'--b')\n",
    "\n",
    "plt.title(\"Arrhenius plot with errorbars including steepest and shallowest lines\")\n",
    "plt.xlabel(\"1/T [1/K]\")\n",
    "plt.ylabel(\"ln k\")\n",
    "\n",
    "plt.errorbar(T_inv,ln_k,xerr=delta_T,yerr=delta_lnk,linestyle=\"None\",ecolor=\"r\")\n",
    "plt.legend([\"Regular\",\"Steepest\",\"Shallowest\"])"
   ]
  },
  {
   "cell_type": "code",
   "execution_count": 68,
   "id": "72980846",
   "metadata": {},
   "outputs": [
    {
     "name": "stdout",
     "output_type": "stream",
     "text": [
      "LinregressResult(slope=-12404.01364036127, intercept=34.554249308793395, rvalue=-0.9996919911599402, pvalue=0.01580111956189862, stderr=307.9350799470517, intercept_stderr=1.0163582840556507)\n",
      "LinregressResult(slope=-18815.46186867147, intercept=55.637191729384135, rvalue=-0.9961195875355441, pvalue=0.056101516772641725, stderr=1662.4003708123007, intercept_stderr=5.486852581338855)\n",
      "LinregressResult(slope=-5992.565412051066, intercept=13.47130688820263, rvalue=-0.9850909415708814, pvalue=0.11006805367074808, stderr=1046.5302109182078, intercept_stderr=3.454136013227588)\n"
     ]
    }
   ],
   "source": [
    "print(stats.linregress(T_inv,ln_k))\n",
    "print(stats.linregress(T_inv,ln_k_min))\n",
    "print(stats.linregress(T_inv,ln_k_max))"
   ]
  },
  {
   "cell_type": "code",
   "execution_count": 69,
   "id": "0b1af3a5",
   "metadata": {},
   "outputs": [
    {
     "name": "stdout",
     "output_type": "stream",
     "text": [
      "[743.1619819448326, 400.6631101502574, 231.82179951837634]\n"
     ]
    }
   ],
   "source": [
    "# half life\n",
    "half_life = [(1/x)*math.log(2) for x in k]\n",
    "print(half_life)"
   ]
  },
  {
   "cell_type": "code",
   "execution_count": 70,
   "id": "4450f40e",
   "metadata": {},
   "outputs": [
    {
     "name": "stdout",
     "output_type": "stream",
     "text": [
      "[5.845447113483174e-07, 3.127917251633748e-07, 1.8278816817777772e-07]\n"
     ]
    }
   ],
   "source": [
    "print(delta_T)"
   ]
  },
  {
   "cell_type": "code",
   "execution_count": 71,
   "id": "39661465",
   "metadata": {},
   "outputs": [
    {
     "name": "stdout",
     "output_type": "stream",
     "text": [
      "2.374678995983472\n"
     ]
    }
   ],
   "source": [
    "dT35 = statistics.stdev(df35[\"T\"])\n",
    "print(dT35)"
   ]
  },
  {
   "cell_type": "markdown",
   "id": "6dc5a97b",
   "metadata": {},
   "source": [
    "# Stats"
   ]
  },
  {
   "cell_type": "code",
   "execution_count": 72,
   "id": "1c589b05",
   "metadata": {},
   "outputs": [
    {
     "name": "stdout",
     "output_type": "stream",
     "text": [
      "0.05537612615588893\n",
      "0.1585431696146568\n",
      "0.6087423944679363\n"
     ]
    }
   ],
   "source": [
    "print(statistics.stdev(df25[\"T\"][:1800]))\n",
    "print(statistics.stdev(df30[\"T\"][:1800]))\n",
    "print(statistics.stdev(df35[\"T\"][:1800]))"
   ]
  },
  {
   "cell_type": "code",
   "execution_count": null,
   "id": "371acf7a",
   "metadata": {},
   "outputs": [],
   "source": []
  }
 ],
 "metadata": {
  "kernelspec": {
   "display_name": "Python 3 (ipykernel)",
   "language": "python",
   "name": "python3"
  },
  "language_info": {
   "codemirror_mode": {
    "name": "ipython",
    "version": 3
   },
   "file_extension": ".py",
   "mimetype": "text/x-python",
   "name": "python",
   "nbconvert_exporter": "python",
   "pygments_lexer": "ipython3",
   "version": "3.10.2"
  }
 },
 "nbformat": 4,
 "nbformat_minor": 5
}
