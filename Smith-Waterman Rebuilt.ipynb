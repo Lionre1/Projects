{
 "cells": [
  {
   "cell_type": "markdown",
   "id": "79e804e7",
   "metadata": {},
   "source": [
    "This noteboook displays an attempt to recreate the Smith-Waterman algorithm for pairiwse local alignments using the BLOSUM62 matrix and a defined gap penalty for scoring."
   ]
  },
  {
   "cell_type": "markdown",
   "id": "aa47d054",
   "metadata": {},
   "source": [
    "Pairwise local alignments are useful to compare protein sequences that are not necessarily homologous and differ in length. It may be useful when comparing sequences that differ in length and can be used to identify important structural elements, active domains or highly conserved amino acids in homologous protein sequences."
   ]
  },
  {
   "cell_type": "markdown",
   "id": "fe47e1b1",
   "metadata": {},
   "source": [
    "Briefly explained, the algorithm creates a 'matrix' for two sequences. For each position in the alignment, there are three possibilities: There could be a gap in sequence A or a gap in sequence B or neither. To identify the best one the algorithm compares three numerical scores for each position in the matrix. This score is the result of adding or substracting a specific value from each previous score, starting at 0. This value could represent a penalty for introducing a gap into the alignment or the score for matching the two amino acids at the given position. This value will be taken from the BLOSUM62 matrix. 0 will be the minimal value however.\n",
    "\n",
    "The score for each position in the matrix will be stored in another dictionary. After filling in all positions in the matrix, the final alignment can be obtained by backtracking from the highest score to the first 0."
   ]
  },
  {
   "cell_type": "markdown",
   "id": "475bd849",
   "metadata": {},
   "source": [
    "One way to access the BLOSUM62 matrix is by importing the BioPython module and assigning the matrix to a variable. The type of this variable will be 'dictionary', with a 'tuple' containing an amino acid pair in one letter code as key and their respective BLOSUM score as value."
   ]
  },
  {
   "cell_type": "code",
   "execution_count": 2,
   "id": "8426c6ad",
   "metadata": {
    "scrolled": false
   },
   "outputs": [
    {
     "name": "stdout",
     "output_type": "stream",
     "text": [
      "Gap penalty: -2\n"
     ]
    }
   ],
   "source": [
    "from Bio.SubsMat import MatrixInfo\n",
    "blosum62 = MatrixInfo.blosum62\n",
    "gp = input(\"Gap penalty: \")"
   ]
  },
  {
   "cell_type": "markdown",
   "id": "68fa517b",
   "metadata": {},
   "source": [
    "A function is needed to access and return the score for two amino acids A and B, which are taken as input arguments. Should there be a gap, substract the gap penalty. The dictionary only contains one key for a pair of amino acids, e.g. (A,B). Should the order be reversed in the alignment, e.g. (B,A), the function will not be able to retrieve the score. Therefore, a Try Except statement is included."
   ]
  },
  {
   "cell_type": "code",
   "execution_count": 3,
   "id": "2a7a0a07",
   "metadata": {},
   "outputs": [],
   "source": [
    "def get_blosum_score(A,B,gp):\n",
    "    \"\"\"This function returns the BLOSUM62 score for a given pair of amino acids.\"\"\"\n",
    "    if A==\"-\" or B==\"-\":\n",
    "        blosum_score = gp\n",
    "    else:\n",
    "        try:\n",
    "            blosum_score = blosum62[(A,B)]            \n",
    "        except:\n",
    "            blosum_score = blosum62[(B,A)]\n",
    "    return blosum_score"
   ]
  },
  {
   "cell_type": "markdown",
   "id": "cb700e49",
   "metadata": {},
   "source": [
    "Another function will be needed in order to access the position with the highest score in the matrix. The function will take the scores dictionary as an input argument and return the key or the position in the matrix corresponding to the highest value."
   ]
  },
  {
   "cell_type": "code",
   "execution_count": 4,
   "id": "c262b741",
   "metadata": {},
   "outputs": [],
   "source": [
    "def get_max_key(dictx):\n",
    "    value_list = list(dictx.values())\n",
    "    key_list = list(dictx.keys())\n",
    "    max_score = max(value_list)\n",
    "    pos = value_list.index(max_score)\n",
    "    S_maxscore = key_list[pos]\n",
    "    return S_maxscore"
   ]
  },
  {
   "cell_type": "markdown",
   "id": "c251a3e6",
   "metadata": {},
   "source": [
    "Now it's time to create the main function."
   ]
  },
  {
   "cell_type": "code",
   "execution_count": 5,
   "id": "de1b5b14",
   "metadata": {},
   "outputs": [],
   "source": [
    "def smith_waterman(gp,A,B):\n",
    "    # take two protein sequences and a gap penalty as input arguments and convert them to the respective data type\n",
    "    if not(isinstance(A,list)) or not(isinstance(B,list)):\n",
    "        A = list(A.upper())\n",
    "        B = list(B.upper())\n",
    "    gp = int(gp)\n",
    "    \n",
    "    # insert a gap in A and B at index position 0\n",
    "    A.insert(0,\"-\")\n",
    "    B.insert(0,\"-\")\n",
    "    \n",
    "    # create index counters for A and B as well as empty dictionaries and lists to store the data\n",
    "    aidx = 0\n",
    "    bidx = 1\n",
    "    Scores = {}\n",
    "    Temp_scores = {}\n",
    "    A_aligned = []\n",
    "    B_aligned = []\n",
    "    \n",
    "    # create the first group of scores for aidx == 0 and bidx == 0 and reset the counters to 1 afterwards\n",
    "    Scores[\"S00\"] = [[0],[0,0],[\"-\",\"-\"]]\n",
    "    while bidx<len(B):\n",
    "        Scores[f\"S{aidx}{bidx}\"] = [[0],[0,bidx-1],[\"-\",B[bidx]]]\n",
    "        bidx+=1\n",
    "    bidx = 0\n",
    "    aidx = 1\n",
    "    while aidx<len(A):\n",
    "        Scores[f\"S{aidx}{bidx}\"] = [[0],[aidx-1,0],[A[aidx],\"-\"]]\n",
    "        aidx+=1\n",
    "    bidx=1\n",
    "    aidx=1\n",
    "            \n",
    "    # fill out the matrix for the alignment by comparing all the temporary scores for each position\n",
    "    # keep the one with the highest score\n",
    "    while bidx<len(B):\n",
    "        \n",
    "        # reset aidx to 1\n",
    "        aidx=1\n",
    "        \n",
    "        while aidx<len(A):\n",
    "            # S1 - no gap: add or substract BLOSUM62 score for the amino acid pair to the previous score left diagonally above\n",
    "            Temp_scores[f\"S{aidx}{bidx}1\"] = [Scores[f\"S{aidx-1}{bidx-1}\"][0][0] + get_blosum_score(A[aidx],B[bidx],gp)]\n",
    "            if Temp_scores[f\"S{aidx}{bidx}1\"][0]<0:\n",
    "                Temp_scores[f\"S{aidx}{bidx}1\"][0]==0\n",
    "            # S2 - gap in A: substract gap penalty from previous score to the right\n",
    "            Temp_scores[f\"S{aidx}{bidx}2\"] = [Scores[f\"S{aidx}{bidx-1}\"][0][0] + gp]\n",
    "            if Temp_scores[f\"S{aidx}{bidx}2\"][0]<0:\n",
    "                Temp_scores[f\"S{aidx}{bidx}2\"][0]==0\n",
    "            # S3 - gap in B: substract gap penalty from previous score above\n",
    "            Temp_scores[f\"S{aidx}{bidx}3\"] = [Scores[f\"S{aidx-1}{bidx}\"][0][0] + gp]\n",
    "            if Temp_scores[f\"S{aidx}{bidx}3\"][0]<0:\n",
    "                Temp_scores[f\"S{aidx}{bidx}3\"][0]==0\n",
    "            \n",
    "            # find the highest score and create a new key value pair in the dictionary with the score,\n",
    "            # the position from which the score was calculated and the respecitve positions in the alignment\n",
    "            if Temp_scores[f\"S{aidx}{bidx}1\"]>=Temp_scores[f\"S{aidx}{bidx}2\"] and Temp_scores[f\"S{aidx}{bidx}1\"]>=Temp_scores[f\"S{aidx}{bidx}3\"]:\n",
    "                Scores[f\"S{aidx}{bidx}\"] = [Temp_scores[f\"S{aidx}{bidx}1\"],[aidx-1,bidx-1],[A[aidx],B[bidx]]]\n",
    "            \n",
    "            elif Temp_scores[f\"S{aidx}{bidx}2\"]>Temp_scores[f\"S{aidx}{bidx}1\"] and Temp_scores[f\"S{aidx}{bidx}2\"]>=Temp_scores[f\"S{aidx}{bidx}3\"]:\n",
    "                Scores[f\"S{aidx}{bidx}\"] = [Temp_scores[f\"S{aidx}{bidx}2\"],[aidx,bidx-1],[\"-\",B[bidx]]]\n",
    "\n",
    "            elif Temp_scores[f\"S{aidx}{bidx}3\"]>Temp_scores[f\"S{aidx}{bidx}1\"] and Temp_scores[f\"S{aidx}{bidx}3\"]>Temp_scores[f\"S{aidx}{bidx}2\"]:\n",
    "                Scores[f\"S{aidx}{bidx}\"] = [Temp_scores[f\"S{aidx}{bidx}3\"],[aidx-1,bidx],[A[aidx],\"-\"]]\n",
    "                                            \n",
    "            # repeat for all indeces in A\n",
    "            aidx+=1\n",
    "\n",
    "        # increment the counter for B and repeat for all remaining indeces in B                            \n",
    "        bidx+=1\n",
    "    \n",
    "    # get the key for the highest numerical value in the dictionary as well as the index positions\n",
    "    S_max = get_max_key(Scores)\n",
    "    S_final = list(S_max)\n",
    "    aidx = int(S_final[1])\n",
    "    bidx = int(S_final[2])\n",
    "    \"\"\"print(Scores)\n",
    "    print(S_max)\"\"\"\n",
    "    \n",
    "    if Scores[S_max][0][0]==0:\n",
    "        fail = \"No alignment possible.\"\n",
    "        return fail\n",
    "    \n",
    "    # backtracking: create the local alignment\n",
    "    while aidx>0 or bidx>0:\n",
    "        new_score = Scores[f\"S{aidx}{bidx}\"][0][0]\n",
    "        if new_score==0:\n",
    "            break\n",
    "        new_aidx = Scores[f\"S{aidx}{bidx}\"][1][0]\n",
    "        new_bidx = Scores[f\"S{aidx}{bidx}\"][1][1]\n",
    "        A_aligned.append(Scores[f\"S{aidx}{bidx}\"][2][0]) \n",
    "        B_aligned.append(Scores[f\"S{aidx}{bidx}\"][2][1])\n",
    "        \"\"\"print(A_aligned)\n",
    "        print(B_aligned)\"\"\"\n",
    "        aidx = new_aidx\n",
    "        bidx = new_bidx\n",
    "     \n",
    "    # reverse the lists containing the final alignment\n",
    "    A_aligned.reverse()\n",
    "    B_aligned.reverse()\n",
    "    \n",
    "    # print the alignment and its score\n",
    "    print(A_aligned)\n",
    "    print(B_aligned)\n",
    "    print(f\"Alignment score using BLOSUM62 and a gap penalty of {gp} is {Scores[S_max][0][0]}.\")"
   ]
  },
  {
   "cell_type": "code",
   "execution_count": 6,
   "id": "24c43236",
   "metadata": {
    "scrolled": true
   },
   "outputs": [
    {
     "name": "stdout",
     "output_type": "stream",
     "text": [
      "['D', 'E', '-', 'S']\n",
      "['D', 'E', 'A', 'S']\n",
      "Alignment score using BLOSUM62 and a gap penalty of -2 is 13.\n"
     ]
    }
   ],
   "source": [
    "smith_waterman(-2,\"design\",\"deas\")"
   ]
  },
  {
   "cell_type": "markdown",
   "id": "85b5b38f",
   "metadata": {},
   "source": [
    "Put the algorithm to the test by creating random sequences and identifying the best local alignment."
   ]
  },
  {
   "cell_type": "code",
   "execution_count": 7,
   "id": "7a78b294",
   "metadata": {},
   "outputs": [],
   "source": [
    "import random\n",
    "amino_acids = [\"A\",\"R\",\"N\",\"D\",\"C\",\"E\",\"Q\",\"G\",\"H\",\"I\",\"L\",\"K\",\"M\",\"F\",\"P\",\"S\",\"T\",\"W\",\"Y\",\"V\"]"
   ]
  },
  {
   "cell_type": "code",
   "execution_count": 8,
   "id": "4456bba7",
   "metadata": {},
   "outputs": [
    {
     "name": "stdout",
     "output_type": "stream",
     "text": [
      "\n",
      "['W', 'C', 'L', 'C', 'C', 'D']\n",
      "['N', 'C', 'H']\n",
      "['-', 'C']\n",
      "['N', 'C']\n",
      "Alignment score using BLOSUM62 and a gap penalty of -2 is 7.\n",
      "\n",
      "['V', 'Q', 'P', 'G', 'D', 'F']\n",
      "['E', 'W', 'Y']\n",
      "['F']\n",
      "['Y']\n",
      "Alignment score using BLOSUM62 and a gap penalty of -2 is 3.\n",
      "\n",
      "['E', 'Y', 'I', 'P', 'Q', 'I']\n",
      "['F', 'I', 'V']\n",
      "['Y', 'I']\n",
      "['F', 'I']\n",
      "Alignment score using BLOSUM62 and a gap penalty of -2 is 7.\n",
      "\n",
      "['Q', 'M', 'C', 'Q', 'Y', 'Q']\n",
      "['K', 'K', 'I']\n",
      "['Q', 'M']\n",
      "['K', 'I']\n",
      "Alignment score using BLOSUM62 and a gap penalty of -2 is 2.\n",
      "\n",
      "['T', 'N', 'K', 'V', 'H', 'P']\n",
      "['I', 'V', 'Y']\n",
      "['-', 'V', 'H']\n",
      "['I', 'V', 'Y']\n",
      "Alignment score using BLOSUM62 and a gap penalty of -2 is 4.\n",
      "\n",
      "['D', 'P', 'P', 'W', 'P', 'P']\n",
      "['C', 'T', 'I']\n"
     ]
    }
   ],
   "source": [
    "for i in range(6):\n",
    "    test_A = random.choices(amino_acids,k=6)\n",
    "    test_B = random.choices(amino_acids,k=3)\n",
    "    print()\n",
    "    print(test_A)\n",
    "    print(test_B)\n",
    "    smith_waterman(-2,test_A,test_B)"
   ]
  },
  {
   "cell_type": "code",
   "execution_count": null,
   "id": "1d7771f9",
   "metadata": {},
   "outputs": [],
   "source": []
  }
 ],
 "metadata": {
  "kernelspec": {
   "display_name": "Python 3 (ipykernel)",
   "language": "python",
   "name": "python3"
  },
  "language_info": {
   "codemirror_mode": {
    "name": "ipython",
    "version": 3
   },
   "file_extension": ".py",
   "mimetype": "text/x-python",
   "name": "python",
   "nbconvert_exporter": "python",
   "pygments_lexer": "ipython3",
   "version": "3.10.2"
  }
 },
 "nbformat": 4,
 "nbformat_minor": 5
}
