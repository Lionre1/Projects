{
 "cells": [
  {
   "cell_type": "code",
   "execution_count": 1,
   "id": "2d9f2745",
   "metadata": {},
   "outputs": [],
   "source": [
    "import matplotlib.pyplot as plt\n",
    "import numpy as np\n",
    "import scipy.stats as stats"
   ]
  },
  {
   "cell_type": "code",
   "execution_count": 2,
   "id": "868ca902",
   "metadata": {},
   "outputs": [],
   "source": [
    "t = [0.0,5.0,15.0,30.0]\n",
    "\n",
    "wt_1_30 = [7.975,8.414,12.719,18.548]\n",
    "wt_10_30 = [23.625,28.924,40.874,86.230]\n",
    "\n",
    "d_1_30 = [12.987,12.561,13.098,17.461]\n",
    "d_10_30 = [28.828,33.460,50.374,72.633]\n",
    "\n",
    "wt_1_42 = [13.127,13.587,13.374,23.561]\n",
    "wt_10_42 = [24.530,29.403,43.719,77.852]\n",
    "\n",
    "d_1_42 = [17.140,19.200,19.303,34.784]\n",
    "d_10_42 = [35.608,43.173,67.717,118.735]"
   ]
  },
  {
   "cell_type": "code",
   "execution_count": 3,
   "id": "a398f382",
   "metadata": {},
   "outputs": [
    {
     "name": "stdout",
     "output_type": "stream",
     "text": [
      "[5.0120000000000005, 4.147, 0.37900000000000134, -1.0869999999999997]\n",
      "[5.202999999999999, 4.536000000000001, 9.5, -13.597000000000008]\n",
      "[4.013, 5.6129999999999995, 5.929, 11.222999999999999]\n",
      "[11.077999999999996, 13.770000000000003, 23.997999999999998, 40.882999999999996]\n"
     ]
    }
   ],
   "source": [
    "dif_1_30 = [x - wt_1_30[d_1_30.index(x)] for x in d_1_30]\n",
    "print(dif_1_30)\n",
    "\n",
    "dif_10_30 = [x - wt_10_30[d_10_30.index(x)] for x in d_10_30]\n",
    "print(dif_10_30)\n",
    "\n",
    "dif_1_42 = [x - wt_1_42[d_1_42.index(x)] for x in d_1_42]\n",
    "print(dif_1_42)\n",
    "\n",
    "dif_10_42 = [x - wt_10_42[d_10_42.index(x)] for x in d_10_42]\n",
    "print(dif_10_42)"
   ]
  },
  {
   "cell_type": "code",
   "execution_count": 4,
   "id": "cad50bc1",
   "metadata": {},
   "outputs": [
    {
     "name": "stdout",
     "output_type": "stream",
     "text": [
      "DescribeResult(nobs=4, minmax=(-1.0869999999999997, 5.0120000000000005), mean=2.1127500000000006, variance=8.596037583333333, skewness=-0.07916510581339785, kurtosis=-1.787178772713186)\n",
      "DescribeResult(nobs=4, minmax=(-13.597000000000008, 9.5), mean=1.410499999999998, variance=104.93895766666675, skewness=-0.9902244209872874, kurtosis=-0.7676840087891796)\n",
      "DescribeResult(nobs=4, minmax=(4.013, 11.222999999999999), mean=6.6945, variance=9.817795666666663, skewness=0.8992714006396013, kurtosis=-0.8145813617387283)\n",
      "DescribeResult(nobs=4, minmax=(11.077999999999996, 40.882999999999996), mean=22.432249999999996, variance=182.27843891666666, skewness=0.6524014396205158, kurtosis=-1.152031115831978)\n"
     ]
    }
   ],
   "source": [
    "print(stats.describe(dif_1_30))\n",
    "print(stats.describe(dif_10_30))\n",
    "print(stats.describe(dif_1_42))\n",
    "print(stats.describe(dif_10_42))"
   ]
  },
  {
   "cell_type": "code",
   "execution_count": 5,
   "id": "78b7b1f0",
   "metadata": {},
   "outputs": [
    {
     "data": {
      "image/png": "[encoded data removed]",
      "text/plain": [
       "<Figure size 432x288 with 1 Axes>"
      ]
     },
     "metadata": {
      "needs_background": "light"
     },
     "output_type": "display_data"
    }
   ],
   "source": [
    "X = ['0','5','15','30']\n",
    "X_axis = np.arange(len(X))\n",
    "  \n",
    "     \n",
    "plt.bar(X_axis - 0.2, wt_1_30, 0.1, label = 'WT 1µM', color='blue')\n",
    "plt.bar(X_axis - 0.1, d_1_30, 0.1, label = 'D 1µM',color='red')\n",
    "plt.bar(X_axis + 0.1, wt_10_30, 0.1, label = 'WT 10µM', color='lightseagreen')\n",
    "plt.bar(X_axis + 0.2, d_10_30, 0.1, label = 'D 10µM', color='lightsalmon')\n",
    "  \n",
    "plt.xticks(X_axis, X)\n",
    "plt.xlabel(\"Minutes of incubation\")\n",
    "plt.ylabel(\"Emission at 553nm\")\n",
    "plt.title(\"Rhodamine 6G Efflux Assay (30°C)\")\n",
    "plt.legend()\n",
    "plt.show()"
   ]
  },
  {
   "cell_type": "code",
   "execution_count": 6,
   "id": "abc5c6bf",
   "metadata": {},
   "outputs": [
    {
     "data": {
      "image/png": "[encoded data removed]",
      "text/plain": [
       "<Figure size 432x288 with 1 Axes>"
      ]
     },
     "metadata": {
      "needs_background": "light"
     },
     "output_type": "display_data"
    }
   ],
   "source": [
    "X = ['0','5','15','30']\n",
    "X_axis = np.arange(len(X))\n",
    "  \n",
    "     \n",
    "plt.bar(X_axis - 0.2, wt_1_42, 0.1, label = 'WT 1µM', color='blue')\n",
    "plt.bar(X_axis - 0.1, d_1_42, 0.1, label = 'D 1µM',color='red')\n",
    "plt.bar(X_axis + 0.1, wt_10_42, 0.1, label = 'WT 10µM', color='lightseagreen')\n",
    "plt.bar(X_axis + 0.2, d_10_42, 0.1, label = 'D 10µM', color='lightsalmon')\n",
    "  \n",
    "plt.xticks(X_axis, X)\n",
    "plt.xlabel(\"Minutes of incubation\")\n",
    "plt.ylabel(\"Emission at 553nm\")\n",
    "plt.title(\"Rhodamine 6G Efflux Assay (42°C)\")\n",
    "plt.legend()\n",
    "plt.show()"
   ]
  },
  {
   "cell_type": "code",
   "execution_count": 7,
   "id": "66757376",
   "metadata": {},
   "outputs": [],
   "source": [
    "od600dil = {'orf1_orf1':0.132,'orf1_orf2':0.185,'orf1_cheB':0.097,'orf1_cheW':'-','orf2_orf1':0.253,'orf2_orf2':'-','orf2_cheB':0.177,'orf2_cheW':0.239,'cheW_orf1':0.151,'cheW_cheB':0.115,'cheW_cheW':0.179,'cheR_orf1':0.175,'cheR_orf2':'-','cheR_cheB':0.180,'cheR_cheW':0.174}\n",
    "od420dil = {'orf1_orf1':0.020,'orf1_orf2':0.019,'orf1_cheB':0.020,'orf1_cheW':'-','orf2_orf1':0.023,'orf2_orf2':'-','orf2_cheB':0.022,'orf2_cheW':0.043,'cheW_orf1':0.029,'cheW_cheB':0.024,'cheW_cheW':0.021,'cheR_orf1':0.039,'cheR_orf2':'-','cheR_cheB':0.017,'cheR_cheW':0.026}\n"
   ]
  },
  {
   "cell_type": "code",
   "execution_count": 8,
   "id": "44da381e",
   "metadata": {},
   "outputs": [],
   "source": [
    "def get_undil(dic):\n",
    "    keys = list(dic.keys())\n",
    "    vals = list(dic.values())\n",
    "    vals_new = [x*20 if isinstance(x,float) else x==x for x in vals]\n",
    "    dict_new = {}\n",
    "    idx = 0\n",
    "    while idx<len(vals_new):\n",
    "        dict_new[keys[idx]]=vals_new[idx]\n",
    "        idx+=1\n",
    "    return dict_new"
   ]
  },
  {
   "cell_type": "code",
   "execution_count": 9,
   "id": "1b33865d",
   "metadata": {},
   "outputs": [],
   "source": [
    "od600 = get_undil(od600dil)"
   ]
  },
  {
   "cell_type": "code",
   "execution_count": 10,
   "id": "327c40d0",
   "metadata": {},
   "outputs": [],
   "source": [
    "od410 = get_undil(od420dil)"
   ]
  },
  {
   "cell_type": "code",
   "execution_count": 11,
   "id": "721a49df",
   "metadata": {},
   "outputs": [],
   "source": [
    "def beta_gal():\n",
    "    t = 60\n",
    "    keys = list(od600.keys())\n",
    "    vals410 = list(od410.values())\n",
    "    vals600 = list(od600.values())\n",
    "    beta_gal = {}\n",
    "    idx = 0\n",
    "    while idx<len(vals410):\n",
    "        if isinstance(vals410[idx],float):\n",
    "            x = (vals410[idx]*1000)/(t*5*vals600[idx])\n",
    "        else:\n",
    "            x = '-'\n",
    "        beta_gal[keys[idx]]=x    \n",
    "        idx+=1\n",
    "    return beta_gal"
   ]
  },
  {
   "cell_type": "code",
   "execution_count": 12,
   "id": "9aeb9e0d",
   "metadata": {},
   "outputs": [],
   "source": [
    "beta_gal = beta_gal()"
   ]
  },
  {
   "cell_type": "code",
   "execution_count": 13,
   "id": "fb93c05b",
   "metadata": {},
   "outputs": [],
   "source": [
    "for x in beta_gal:\n",
    "    beta_gal_keys = list(beta_gal.keys())\n",
    "    beta_gal_vals = list(beta_gal.values())\n",
    "    beta_gal_new = {}\n",
    "    idx = 0\n",
    "    while idx<len(beta_gal):\n",
    "        if isinstance(beta_gal_vals[idx],float):\n",
    "            beta_gal_new[beta_gal_keys[idx]]=beta_gal_vals[idx]\n",
    "        else:\n",
    "            pass\n",
    "        idx+=1"
   ]
  },
  {
   "cell_type": "code",
   "execution_count": 14,
   "id": "33f6fcb4",
   "metadata": {},
   "outputs": [
    {
     "name": "stdout",
     "output_type": "stream",
     "text": [
      "{'orf1_orf1': 0.5050505050505051, 'orf1_orf2': 0.34234234234234234, 'orf1_cheB': 0.6872852233676976, 'orf2_orf1': 0.3030303030303029, 'orf2_cheB': 0.41431261770244815, 'orf2_cheW': 0.599721059972106, 'cheW_orf1': 0.6401766004415013, 'cheW_cheB': 0.6956521739130433, 'cheW_cheW': 0.3910614525139665, 'cheR_orf1': 0.7428571428571429, 'cheR_cheB': 0.3148148148148148, 'cheR_cheW': 0.49808429118773956}\n"
     ]
    },
    {
     "data": {
      "text/plain": [
       "0.3030303030303029"
      ]
     },
     "execution_count": 14,
     "metadata": {},
     "output_type": "execute_result"
    }
   ],
   "source": [
    "print(beta_gal_new)\n",
    "beta_gal_new.pop('orf2_orf1')"
   ]
  },
  {
   "cell_type": "code",
   "execution_count": 15,
   "id": "2cefc3c1",
   "metadata": {},
   "outputs": [
    {
     "data": {
      "text/plain": [
       "Text(0, 0.5, 'beta galactosidase units [units / min * cell]')"
      ]
     },
     "execution_count": 15,
     "metadata": {},
     "output_type": "execute_result"
    },
    {
     "data": {
      "image/png": "[encoded data removed]",
      "text/plain": [
       "<Figure size 1152x504 with 1 Axes>"
      ]
     },
     "metadata": {
      "needs_background": "light"
     },
     "output_type": "display_data"
    }
   ],
   "source": [
    "# plt.bar(list(beta_gal_new.keys()),list(beta_gal_new.values()))\n",
    "plt.figure(figsize=(16, 7))  # width:20, height:3\n",
    "plt.bar(beta_gal_new.keys(), beta_gal_new.values(), align='center', width=0.3, color='blue')\n",
    "\n",
    "plt.bar('orf1_cheB',height=beta_gal_new['orf1_cheB'],width=0.3,color='deeppink')\n",
    "plt.bar('orf2_cheW',height=beta_gal_new['orf2_cheW'],width=0.3,color='deeppink')\n",
    "plt.bar('cheW_orf1',height=beta_gal_new['cheW_orf1'],width=0.3,color='deeppink')\n",
    "plt.bar('cheW_cheB',height=beta_gal_new['cheW_cheB'],width=0.3,color='deeppink')\n",
    "plt.bar('cheR_orf1',height=beta_gal_new['cheR_orf1'],width=0.3,color='deeppink')\n",
    "\n",
    "\n",
    "plt.title('Beta galactosidase units for respective hybrid system')\n",
    "plt.xlabel('protein1_protein2')\n",
    "plt.ylabel('beta galactosidase units [units / min * cell]')"
   ]
  },
  {
   "cell_type": "code",
   "execution_count": 16,
   "id": "9553ec33",
   "metadata": {},
   "outputs": [],
   "source": [
    "import scipy.stats as stats\n",
    "import math"
   ]
  },
  {
   "cell_type": "code",
   "execution_count": 17,
   "id": "9622c5e2",
   "metadata": {},
   "outputs": [
    {
     "data": {
      "text/plain": [
       "DescribeResult(nobs=11, minmax=(0.3148148148148148, 0.7428571428571429), mean=0.5301234749239371, variance=0.023033582982745847, skewness=-0.035376269770915854, kurtosis=-1.4394425778468918)"
      ]
     },
     "execution_count": 17,
     "metadata": {},
     "output_type": "execute_result"
    }
   ],
   "source": [
    "beta_gal_new_vals = list(beta_gal_new.values())\n",
    "stats.describe(beta_gal_new_vals)"
   ]
  },
  {
   "cell_type": "code",
   "execution_count": 18,
   "id": "a56fb7ca",
   "metadata": {},
   "outputs": [
    {
     "name": "stdout",
     "output_type": "stream",
     "text": [
      "[-0.07879263636638534, -1.1516584898850561, 1.1228275119649975, -0.6771005475113391, 0.5454465168420853, 0.8122024511040079, 1.1779975500796898, -0.8304141906011857, 1.4892578977696274, -1.3331696312102226, -0.12472649031245159]\n"
     ]
    }
   ],
   "source": [
    "z_scores = [(x-0.517)/math.sqrt(0.023) for x in beta_gal_new_vals]\n",
    "print(z_scores)"
   ]
  },
  {
   "cell_type": "code",
   "execution_count": 19,
   "id": "1fbe3005",
   "metadata": {},
   "outputs": [
    {
     "data": {
      "text/plain": [
       "0.15165750888103102"
      ]
     },
     "execution_count": 19,
     "metadata": {},
     "output_type": "execute_result"
    }
   ],
   "source": [
    "math.sqrt(0.023)"
   ]
  },
  {
   "cell_type": "code",
   "execution_count": null,
   "id": "1a1b5f7e",
   "metadata": {},
   "outputs": [],
   "source": []
  }
 ],
 "metadata": {
  "kernelspec": {
   "display_name": "Python 3 (ipykernel)",
   "language": "python",
   "name": "python3"
  },
  "language_info": {
   "codemirror_mode": {
    "name": "ipython",
    "version": 3
   },
   "file_extension": ".py",
   "mimetype": "text/x-python",
   "name": "python",
   "nbconvert_exporter": "python",
   "pygments_lexer": "ipython3",
   "version": "3.10.2"
  }
 },
 "nbformat": 4,
 "nbformat_minor": 5
}
