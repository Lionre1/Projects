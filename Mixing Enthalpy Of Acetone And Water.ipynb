{
 "cells": [
  {
   "cell_type": "code",
   "execution_count": 1,
   "id": "dd3966e8",
   "metadata": {},
   "outputs": [],
   "source": [
    "import pandas as pd\n",
    "import openpyxl\n",
    "import numpy as np\n",
    "import matplotlib.pyplot as plt\n",
    "import math\n",
    "import statistics\n",
    "import scipy.stats as stats\n",
    "from sklearn import metrics\n",
    "import scipy\n",
    "from scipy import optimize"
   ]
  },
  {
   "cell_type": "markdown",
   "id": "20d4e79a",
   "metadata": {},
   "source": [
    "# Mixing enthalpy vs molar fraction of acetone"
   ]
  },
  {
   "cell_type": "code",
   "execution_count": 2,
   "id": "18fbce9e",
   "metadata": {},
   "outputs": [],
   "source": [
    "mix = {0.1:547.1,0.2:556.9,0.9:-269.0,0.8:-302.6,0.6:-117.8,0.5:33.2,0.4:224.6}"
   ]
  },
  {
   "cell_type": "code",
   "execution_count": 3,
   "id": "c7a00df3",
   "metadata": {},
   "outputs": [],
   "source": [
    "mix_sorted = {0.1:547.1,0.2:556.9,0.4:224.6,0.5:33.2,0.6:-117.8,0.8:-302.6,0.9:-269.0}"
   ]
  },
  {
   "cell_type": "code",
   "execution_count": 4,
   "id": "9f9bb6c9",
   "metadata": {},
   "outputs": [
    {
     "data": {
      "text/plain": [
       "[<matplotlib.lines.Line2D at 0x1f8f4214dc0>]"
      ]
     },
     "execution_count": 4,
     "metadata": {},
     "output_type": "execute_result"
    },
    {
     "data": {
      "image/png": "[encoded data removed]",
      "text/plain": [
       "<Figure size 432x288 with 1 Axes>"
      ]
     },
     "metadata": {
      "needs_background": "light"
     },
     "output_type": "display_data"
    }
   ],
   "source": [
    "plt.plot(mix_sorted.keys(),mix_sorted.values(),'--r',marker='o')"
   ]
  },
  {
   "cell_type": "code",
   "execution_count": 9,
   "id": "bbaffba3",
   "metadata": {
    "scrolled": true
   },
   "outputs": [],
   "source": [
    "xacetone = list(mix_sorted.keys())\n",
    "dH = list(mix_sorted.values())"
   ]
  },
  {
   "cell_type": "code",
   "execution_count": 11,
   "id": "ec62a58a",
   "metadata": {},
   "outputs": [
    {
     "name": "stdout",
     "output_type": "stream",
     "text": [
      "[0.1, 0.2, 0.4, 0.5, 0.6, 0.8, 0.9]\n",
      "[0.9, 0.8, 0.6, 0.5, 0.4, 0.2, 0.1]\n"
     ]
    }
   ],
   "source": [
    "xwater = [round((1-x),1) for x in xacetone]\n",
    "print(xacetone) # acetone\n",
    "print(xwater) # water"
   ]
  },
  {
   "cell_type": "code",
   "execution_count": 12,
   "id": "643184f8",
   "metadata": {},
   "outputs": [
    {
     "name": "stdout",
     "output_type": "stream",
     "text": [
      "[547.1, 556.9, 224.6, 33.2, -117.8, -302.6, -269.0]\n"
     ]
    }
   ],
   "source": [
    "dh = [14606.6,16076.8,4072.1,498.8,-1484.5,-2968.8,-2394.4]\n",
    "print(dH)"
   ]
  },
  {
   "cell_type": "code",
   "execution_count": 13,
   "id": "1cb15629",
   "metadata": {},
   "outputs": [],
   "source": [
    "T_err = 0.14\n",
    "q_cal = [13465.5,2450.2,3024.6,1263.7,1908.4,2237.5,3960.3]\n",
    "dT_exp = [6.4,0.6,1.9,1.5,1.4,-0.5,-1.9]\n",
    "dT_cal = [5.9,1.0,2.1,1.7,1.8,1.1,2.4]\n",
    "q_exp = [14606.6,2100.2,-2349.4,-631.8,1459.4,2097.6,3960.3]\n",
    "q_cal_error = []\n",
    "q_exp_error = [math.sqrt((((x/dT_cal[q_cal.index(x)])*T_err)**2)+((-(x*dT_exp[q_cal.index(x)])/(dT_cal[q_cal.index(x)]**2)*T_err))**2) for x in q_cal]"
   ]
  },
  {
   "cell_type": "code",
   "execution_count": 14,
   "id": "b8d8d1f3",
   "metadata": {},
   "outputs": [
    {
     "name": "stdout",
     "output_type": "stream",
     "text": [
      "[471.40603732364684, 400.03595331699876, 271.92214546716286, 138.78922092301542, 188.04167245449833, 312.81108687838844, 294.6479565254887]\n"
     ]
    }
   ],
   "source": [
    "print(q_exp_error)"
   ]
  },
  {
   "cell_type": "code",
   "execution_count": 15,
   "id": "0ef24c03",
   "metadata": {},
   "outputs": [],
   "source": [
    "nwater = [24.0,24.0,12.0,8.0,5.3,2.0,0.9]\n",
    "nacetone = [2.7,6.0,8.0,8.0,8.0,8.0,8.0]\n",
    "dh_err = [math.sqrt(((1/(nacetone[q_exp_error.index(x)]+nwater[q_exp_error.index(x)]))*x)**2) for x in q_exp_error]"
   ]
  },
  {
   "cell_type": "code",
   "execution_count": 16,
   "id": "4bc5d82e",
   "metadata": {},
   "outputs": [
    {
     "name": "stdout",
     "output_type": "stream",
     "text": [
      "[17.655656828601007, 13.334531777233291, 13.596107273358143, 8.674326307688464, 14.138471613120174, 31.281108687838845, 33.10651196915604]\n"
     ]
    }
   ],
   "source": [
    "print(dh_err)"
   ]
  },
  {
   "cell_type": "code",
   "execution_count": 17,
   "id": "2e6be8cd",
   "metadata": {},
   "outputs": [
    {
     "data": {
      "image/png": "[encoded data removed]",
      "text/plain": [
       "<Figure size 432x288 with 1 Axes>"
      ]
     },
     "metadata": {
      "needs_background": "light"
     },
     "output_type": "display_data"
    }
   ],
   "source": [
    "df = pd.DataFrame({'x':xacetone,'y':dH})\n",
    "\n",
    "model1 = np.poly1d(np.polyfit(df.x, df.y, 1))\n",
    "model2 = np.poly1d(np.polyfit(df.x, df.y, 2))\n",
    "model3 = np.poly1d(np.polyfit(df.x, df.y, 3))\n",
    "model4 = np.poly1d(np.polyfit(df.x, df.y, 4))\n",
    "model5 = np.poly1d(np.polyfit(df.x, df.y, 5))\n",
    "\n",
    "#create scatterplot\n",
    "plt.scatter(df.x, df.y,color='r')\n",
    "plt.errorbar(df.x, df.y,color='r',ls='None',xerr=0,yerr=dh_err,)\n",
    "plt.title(\"Mixing enthalpy of water and acetone versus molar ratio of acetone\")\n",
    "plt.xlabel(\"Molar ratio of acetone\")\n",
    "plt.ylabel(\"Mixing enthalpy [J/mol]\")\n",
    "polyline = np.linspace(0,1)\n",
    "\n",
    "#add fitted polynomial lines to scatterplot \n",
    "# plt.plot(polyline, model1(polyline), color='green')\n",
    "# plt.plot(polyline, model2(polyline), color='red')\n",
    "# plt.plot(polyline[4:46], model3(polyline)[4:46], '--r')\n",
    "plt.plot(polyline[4:46], model4(polyline)[4:46], '--r')\n",
    "# plt.plot(polyline, model5(polyline), color='orange')\n",
    "\n",
    "# plt.errorbar(df.x,df.y,ls='None',xerr=0,yerr=dh_err_sorted)\n",
    "\n",
    "plt.show()"
   ]
  },
  {
   "cell_type": "code",
   "execution_count": 18,
   "id": "a3a04601",
   "metadata": {},
   "outputs": [],
   "source": [
    "dH = [547.1,535.9,203.6,30.6,-111.6,-296.6,-269]\n",
    "# dHacetone = [x-xwater[dH.index(x)]*x for x in dH]\n",
    "# dHwater = [x+xacetone[dH.index(x)]*x for x in dH]\n",
    "\n",
    "dHwater = [x-xacetone[dH.index(x)]*x for x in dH]\n",
    "dHacetone = [x+xwater[dH.index(x)]*x for x in dH]"
   ]
  },
  {
   "cell_type": "code",
   "execution_count": 19,
   "id": "5aa43c41",
   "metadata": {},
   "outputs": [
    {
     "name": "stdout",
     "output_type": "stream",
     "text": [
      "[1039.5, 964.6, 325.8, 45.9, -156.2, -355.9, -295.9]\n",
      "[492.4, 428.7, 122.2, 15.3, -44.6, -59.3, -26.9]\n"
     ]
    }
   ],
   "source": [
    "print([round(x,1) for x in dHacetone])\n",
    "print([round(x,1) for x in dHwater])"
   ]
  },
  {
   "cell_type": "code",
   "execution_count": 29,
   "id": "5f957d1f",
   "metadata": {},
   "outputs": [
    {
     "name": "stdout",
     "output_type": "stream",
     "text": [
      "[547.1, 535.9, 203.6, 30.6, -111.6, -296.6, -269]\n",
      "[15.890091145740907, 10.667625421786633, 8.157664364014886, 4.337163153844232, 5.65538864524807, 6.25622173756777, 3.310651196915604]\n"
     ]
    }
   ],
   "source": [
    "print(dH)\n",
    "dHa_err = [abs(x*dh_err[xwater.index(x)]) for x in xwater]\n",
    "print(dHa_err)"
   ]
  },
  {
   "cell_type": "code",
   "execution_count": 30,
   "id": "7d71c495",
   "metadata": {},
   "outputs": [],
   "source": [
    "dHb_err = [abs(x*dh_err[xacetone.index(x)]) for x in xacetone]"
   ]
  },
  {
   "cell_type": "code",
   "execution_count": 31,
   "id": "871721ad",
   "metadata": {},
   "outputs": [
    {
     "name": "stdout",
     "output_type": "stream",
     "text": [
      "[1.7655656828601007, 2.6669063554466583, 5.438442909343258, 4.337163153844232, 8.483082967872104, 25.02488695027108, 29.795860772240434]\n"
     ]
    }
   ],
   "source": [
    "print(dHb_err)"
   ]
  },
  {
   "cell_type": "code",
   "execution_count": 32,
   "id": "ea413ec6",
   "metadata": {},
   "outputs": [
    {
     "name": "stdout",
     "output_type": "stream",
     "text": [
      "[471.40603732364684, 400.03595331699876, 271.92214546716286, 138.78922092301542, 188.04167245449833, 312.81108687838844, 294.6479565254887]\n"
     ]
    }
   ],
   "source": [
    "print(q_exp_error)"
   ]
  },
  {
   "cell_type": "code",
   "execution_count": 33,
   "id": "2c3ff70e",
   "metadata": {},
   "outputs": [
    {
     "data": {
      "text/plain": [
       "[17.655656828601007,\n",
       " 13.334531777233291,\n",
       " 13.596107273358143,\n",
       " 8.674326307688464,\n",
       " 14.138471613120174,\n",
       " 31.281108687838845,\n",
       " 33.10651196915604]"
      ]
     },
     "execution_count": 33,
     "metadata": {},
     "output_type": "execute_result"
    }
   ],
   "source": [
    "dh_err"
   ]
  },
  {
   "cell_type": "code",
   "execution_count": 34,
   "id": "7997b1b4",
   "metadata": {},
   "outputs": [
    {
     "data": {
      "text/plain": [
       "<matplotlib.legend.Legend at 0x1f8f730fe80>"
      ]
     },
     "execution_count": 34,
     "metadata": {},
     "output_type": "execute_result"
    },
    {
     "data": {
      "image/png": "[encoded data removed]",
      "text/plain": [
       "<Figure size 432x288 with 1 Axes>"
      ]
     },
     "metadata": {
      "needs_background": "light"
     },
     "output_type": "display_data"
    }
   ],
   "source": [
    "# plt.plot(xacetone,dha,color='crimson',marker='o',ls='None',label='acetone')\n",
    "plt.errorbar(xacetone,dHacetone,color='crimson',marker='o',label='acetone',xerr=0,yerr=dHa_err)\n",
    "# plt.plot(xacetone,dhb,color='darkorchid',marker='d',ls='None',label='water')\n",
    "plt.errorbar(xacetone,dHwater,color='darkorchid',marker='d',label='water',xerr=0,yerr=dHb_err)\n",
    "\n",
    "df1 = pd.DataFrame({'x':xacetone,'y':dHacetone})\n",
    "df2 = pd.DataFrame({'x':xacetone,'y':dHwater})\n",
    "\n",
    "modela1 = np.poly1d(np.polyfit(df1.x, df1.y, 1))\n",
    "modela2 = np.poly1d(np.polyfit(df1.x, df1.y, 2))\n",
    "modela3 = np.poly1d(np.polyfit(df1.x, df1.y, 3))\n",
    "modela4 = np.poly1d(np.polyfit(df1.x, df1.y, 4))\n",
    "modela5 = np.poly1d(np.polyfit(df1.x, df1.y, 5))\n",
    "\n",
    "modelb1 = np.poly1d(np.polyfit(df2.x, df2.y, 1))\n",
    "modelb2 = np.poly1d(np.polyfit(df2.x, df2.y, 2))\n",
    "modelb3 = np.poly1d(np.polyfit(df2.x, df2.y, 3))\n",
    "modelb4 = np.poly1d(np.polyfit(df2.x, df2.y, 4))\n",
    "modelb5 = np.poly1d(np.polyfit(df2.x, df2.y, 5))\n",
    "\n",
    "polyline = np.linspace(0,1)\n",
    "\n",
    "#plt.plot(polyline, modela1(polyline), color='green')\n",
    "plt.plot(polyline, modela2(polyline), '--r')\n",
    "#plt.plot(polyline, modela3(polyline), color='blue')\n",
    "#plt.plot(polyline, modela4(polyline), color='blue')\n",
    "#plt.plot(polyline, modela5(polyline), color='orange')\n",
    "\n",
    "polyline2 = np.linspace(0,1)\n",
    "\n",
    "#plt.plot(polyline2, modelb1(polyline2), color='green')\n",
    "plt.plot(polyline2, modelb2(polyline2), 'darkorchid',ls='dashed')\n",
    "#plt.plot(polyline2, modelb3(polyline2), color='blue')\n",
    "#plt.plot(polyline2, modelb4(polyline2), color='blue')\n",
    "#plt.plot(polyline2, modelb5(polyline2), color='orange')\n",
    "\n",
    "plt.title(\"\"\"Partial molar mixing enthalpies for water and acetone \n",
    "vs. molar ratio of acetone\"\"\")\n",
    "plt.xlabel(\"Molar ratio of acetone\")\n",
    "plt.ylabel(\"Partial molar mixing enthalpy [J/mol]\")\n",
    "plt.legend()\n"
   ]
  },
  {
   "cell_type": "code",
   "execution_count": null,
   "id": "d219163c",
   "metadata": {},
   "outputs": [],
   "source": []
  }
 ],
 "metadata": {
  "kernelspec": {
   "display_name": "Python 3 (ipykernel)",
   "language": "python",
   "name": "python3"
  },
  "language_info": {
   "codemirror_mode": {
    "name": "ipython",
    "version": 3
   },
   "file_extension": ".py",
   "mimetype": "text/x-python",
   "name": "python",
   "nbconvert_exporter": "python",
   "pygments_lexer": "ipython3",
   "version": "3.10.2"
  }
 },
 "nbformat": 4,
 "nbformat_minor": 5
}
